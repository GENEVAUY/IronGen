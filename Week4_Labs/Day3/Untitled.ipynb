{
 "cells": [
  {
   "cell_type": "markdown",
   "id": "7db4a2bb",
   "metadata": {},
   "source": [
    "# Hypothesis Testing Lab"
   ]
  },
  {
   "cell_type": "code",
   "execution_count": 6,
   "id": "f5a65756",
   "metadata": {},
   "outputs": [],
   "source": [
    "import numpy as np\n",
    "import pandas as pd\n",
    "import scipy.stats as stats\n",
    "import matplotlib.pyplot as plt\n",
    "import seaborn as sns\n",
    "\n",
    "%matplotlib inline"
   ]
  },
  {
   "cell_type": "markdown",
   "id": "e8caf54c",
   "metadata": {},
   "source": [
    " Is the group significantly different (with respect to systolic blood pressure) from the regular population?"
   ]
  },
  {
   "cell_type": "markdown",
   "id": "27a0c2da",
   "metadata": {},
   "source": [
    "TWO TAIL PROBLEM USING T-TEST"
   ]
  },
  {
   "cell_type": "markdown",
   "id": "ad198b84",
   "metadata": {},
   "source": [
    "Mean systolic blood pressure is 120\n",
    "Study Sample is 100\n",
    "Average Mean 130.1\n",
    "St.Dev. of a Sample 21.21"
   ]
  },
  {
   "cell_type": "code",
   "execution_count": 12,
   "id": "17490110",
   "metadata": {},
   "outputs": [
    {
     "name": "stdout",
     "output_type": "stream",
     "text": [
      "Test statistic: 4.761904761904759\n",
      "Critical value: 1.9842169515086827\n",
      "p-value: 6.562701817208617e-06\n"
     ]
    }
   ],
   "source": [
    "import numpy as np\n",
    "from scipy import stats\n",
    "\n",
    "# Sample statistics\n",
    "sample_mean = 130.1\n",
    "population_mean = 120\n",
    "sample_std = 21.21\n",
    "sample_size = 100\n",
    "\n",
    "# Calculate the test statistic\n",
    "t_statistic = (sample_mean - population_mean) / (sample_std / np.sqrt(sample_size))\n",
    "\n",
    "# Perform the one-sample t-test\n",
    "t_critical = stats.t.ppf(0.975, df=sample_size-1)  # Two-tailed test, 95% confidence level\n",
    "p_value = stats.t.sf(np.abs(t_statistic), df=sample_size-1) * 2\n",
    "\n",
    "# Print the results\n",
    "print(\"Test statistic:\", t_statistic)\n",
    "print(\"Critical value:\", t_critical)\n",
    "print(\"p-value:\", p_value)\n"
   ]
  },
  {
   "cell_type": "markdown",
   "id": "3ab6a1e1",
   "metadata": {},
   "source": [
    "Conclusion:\n",
    "The group significantly different (with respect to systolic blood pressure) from the regular population"
   ]
  }
 ],
 "metadata": {
  "kernelspec": {
   "display_name": "Python 3 (ipykernel)",
   "language": "python",
   "name": "python3"
  },
  "language_info": {
   "codemirror_mode": {
    "name": "ipython",
    "version": 3
   },
   "file_extension": ".py",
   "mimetype": "text/x-python",
   "name": "python",
   "nbconvert_exporter": "python",
   "pygments_lexer": "ipython3",
   "version": "3.10.9"
  }
 },
 "nbformat": 4,
 "nbformat_minor": 5
}
