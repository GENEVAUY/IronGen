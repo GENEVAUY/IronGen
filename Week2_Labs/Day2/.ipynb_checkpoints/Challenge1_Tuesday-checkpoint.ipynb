{
 "cells": [
  {
   "cell_type": "markdown",
   "id": "59ecdd76",
   "metadata": {},
   "source": [
    "Lab | Data Structuring and Combining Data\n",
    "Objective:\n",
    "\n",
    "Combine and integrate data from multiple sources using merging, concatenating, or joining techniques to generate more comprehensive and meaningful datasets for analysis.\n",
    "Modify the structure of data by pivoting, stacking/unstacking, or melting dataframes, enabling them to efficiently explore and analyze complex datasets.\n",
    "Challenge 1: Combining Data\n",
    "In this challenge, we will be working with the customer data from an insurance company, as we did in the two previous labs. The data can be found here:\n",
    "\n",
    "https://raw.githubusercontent.com/data-bootcamp-v4/data/main/file1.csv\n",
    "But this time, we got new data, which can be found in the following 2 CSV files located at the following links:\n",
    "\n",
    "https://raw.githubusercontent.com/data-bootcamp-v4/data/main/file2.csv\n",
    "https://raw.githubusercontent.com/data-bootcamp-v4/data/main/file3.csv\n",
    "Perform data cleaning and formatting using the main cleaning and formatting function created in the previous lab to clean and format the data.\n",
    "\n",
    "Combine the data from the three dataframes into a single dataframe, named \"customer_data\", using appropriate merging, concatenating, and joining techniques.\n",
    "\n",
    "Verify that the customer_data dataframe contains all the rows and columns from the three original dataframes.\n",
    "\n",
    "Observation:\n",
    "\n",
    "One option is to first combine the three datasets and then apply the cleaning function to the new combined dataset\n",
    "Another option would be to read the clean file you saved in the previous lab, and just clean the two new files and concatenate the three clean datasets"
   ]
  },
  {
   "cell_type": "code",
   "execution_count": 1,
   "id": "246770cc",
   "metadata": {},
   "outputs": [],
   "source": [
    "import pandas as pd"
   ]
  },
  {
   "cell_type": "code",
   "execution_count": 2,
   "id": "29fa529e",
   "metadata": {},
   "outputs": [],
   "source": [
    "df1 = pd.read_csv(\"https://raw.githubusercontent.com/data-bootcamp-v4/data/main/file1.csv\")\n",
    "df2 = pd.read_csv(\"https://raw.githubusercontent.com/data-bootcamp-v4/data/main/file2.csv\")\n",
    "df3 = pd.read_csv(\"https://raw.githubusercontent.com/data-bootcamp-v4/data/main/file3.csv\")"
   ]
  },
  {
   "cell_type": "code",
   "execution_count": 3,
   "id": "870b15c3",
   "metadata": {},
   "outputs": [],
   "source": [
    "df1= df1.rename(columns=str.lower)\n",
    "df2= df2.rename(columns=str.lower)\n",
    "df3= df3.rename(columns=str.lower)"
   ]
  },
  {
   "cell_type": "code",
   "execution_count": 4,
   "id": "7abc56d9",
   "metadata": {},
   "outputs": [],
   "source": [
    "def rename_columns(df3):\n",
    "    df3.rename (columns = {'state':'st'}, inplace=True)\n",
    "    return df3"
   ]
  },
  {
   "cell_type": "code",
   "execution_count": 5,
   "id": "7a84b3eb",
   "metadata": {},
   "outputs": [],
   "source": [
    "df3 = rename_columns(df3)"
   ]
  },
  {
   "cell_type": "code",
   "execution_count": 6,
   "id": "5504550b",
   "metadata": {},
   "outputs": [],
   "source": [
    "combined_df = pd.concat([df1, df2, df3], axis=0)"
   ]
  },
  {
   "cell_type": "code",
   "execution_count": 7,
   "id": "0c069ab2",
   "metadata": {},
   "outputs": [],
   "source": [
    "combined_df = combined_df.reset_index(drop=True)"
   ]
  },
  {
   "cell_type": "code",
   "execution_count": 8,
   "id": "7d8cf166",
   "metadata": {},
   "outputs": [],
   "source": [
    "combined_df = combined_df.reset_index(drop=True)"
   ]
  },
  {
   "cell_type": "code",
   "execution_count": 9,
   "id": "d62ded19",
   "metadata": {},
   "outputs": [
    {
     "data": {
      "text/html": [
       "<div>\n",
       "<style scoped>\n",
       "    .dataframe tbody tr th:only-of-type {\n",
       "        vertical-align: middle;\n",
       "    }\n",
       "\n",
       "    .dataframe tbody tr th {\n",
       "        vertical-align: top;\n",
       "    }\n",
       "\n",
       "    .dataframe thead th {\n",
       "        text-align: right;\n",
       "    }\n",
       "</style>\n",
       "<table border=\"1\" class=\"dataframe\">\n",
       "  <thead>\n",
       "    <tr style=\"text-align: right;\">\n",
       "      <th></th>\n",
       "      <th>customer</th>\n",
       "      <th>st</th>\n",
       "      <th>gender</th>\n",
       "      <th>education</th>\n",
       "      <th>customer lifetime value</th>\n",
       "      <th>income</th>\n",
       "      <th>monthly premium auto</th>\n",
       "      <th>number of open complaints</th>\n",
       "      <th>policy type</th>\n",
       "      <th>vehicle class</th>\n",
       "      <th>total claim amount</th>\n",
       "    </tr>\n",
       "  </thead>\n",
       "  <tbody>\n",
       "    <tr>\n",
       "      <th>0</th>\n",
       "      <td>RB50392</td>\n",
       "      <td>Washington</td>\n",
       "      <td>NaN</td>\n",
       "      <td>Master</td>\n",
       "      <td>NaN</td>\n",
       "      <td>0.0</td>\n",
       "      <td>1000.0</td>\n",
       "      <td>1/0/00</td>\n",
       "      <td>Personal Auto</td>\n",
       "      <td>Four-Door Car</td>\n",
       "      <td>2.704934</td>\n",
       "    </tr>\n",
       "    <tr>\n",
       "      <th>1</th>\n",
       "      <td>QZ44356</td>\n",
       "      <td>Arizona</td>\n",
       "      <td>F</td>\n",
       "      <td>Bachelor</td>\n",
       "      <td>697953.59%</td>\n",
       "      <td>0.0</td>\n",
       "      <td>94.0</td>\n",
       "      <td>1/0/00</td>\n",
       "      <td>Personal Auto</td>\n",
       "      <td>Four-Door Car</td>\n",
       "      <td>1131.464935</td>\n",
       "    </tr>\n",
       "    <tr>\n",
       "      <th>2</th>\n",
       "      <td>AI49188</td>\n",
       "      <td>Nevada</td>\n",
       "      <td>F</td>\n",
       "      <td>Bachelor</td>\n",
       "      <td>1288743.17%</td>\n",
       "      <td>48767.0</td>\n",
       "      <td>108.0</td>\n",
       "      <td>1/0/00</td>\n",
       "      <td>Personal Auto</td>\n",
       "      <td>Two-Door Car</td>\n",
       "      <td>566.472247</td>\n",
       "    </tr>\n",
       "    <tr>\n",
       "      <th>3</th>\n",
       "      <td>WW63253</td>\n",
       "      <td>California</td>\n",
       "      <td>M</td>\n",
       "      <td>Bachelor</td>\n",
       "      <td>764586.18%</td>\n",
       "      <td>0.0</td>\n",
       "      <td>106.0</td>\n",
       "      <td>1/0/00</td>\n",
       "      <td>Corporate Auto</td>\n",
       "      <td>SUV</td>\n",
       "      <td>529.881344</td>\n",
       "    </tr>\n",
       "    <tr>\n",
       "      <th>4</th>\n",
       "      <td>GA49547</td>\n",
       "      <td>Washington</td>\n",
       "      <td>M</td>\n",
       "      <td>High School or Below</td>\n",
       "      <td>536307.65%</td>\n",
       "      <td>36357.0</td>\n",
       "      <td>68.0</td>\n",
       "      <td>1/0/00</td>\n",
       "      <td>Personal Auto</td>\n",
       "      <td>Four-Door Car</td>\n",
       "      <td>17.269323</td>\n",
       "    </tr>\n",
       "    <tr>\n",
       "      <th>...</th>\n",
       "      <td>...</td>\n",
       "      <td>...</td>\n",
       "      <td>...</td>\n",
       "      <td>...</td>\n",
       "      <td>...</td>\n",
       "      <td>...</td>\n",
       "      <td>...</td>\n",
       "      <td>...</td>\n",
       "      <td>...</td>\n",
       "      <td>...</td>\n",
       "      <td>...</td>\n",
       "    </tr>\n",
       "    <tr>\n",
       "      <th>12069</th>\n",
       "      <td>LA72316</td>\n",
       "      <td>California</td>\n",
       "      <td>M</td>\n",
       "      <td>Bachelor</td>\n",
       "      <td>23405.98798</td>\n",
       "      <td>71941.0</td>\n",
       "      <td>73.0</td>\n",
       "      <td>0</td>\n",
       "      <td>Personal Auto</td>\n",
       "      <td>Four-Door Car</td>\n",
       "      <td>198.234764</td>\n",
       "    </tr>\n",
       "    <tr>\n",
       "      <th>12070</th>\n",
       "      <td>PK87824</td>\n",
       "      <td>California</td>\n",
       "      <td>F</td>\n",
       "      <td>College</td>\n",
       "      <td>3096.511217</td>\n",
       "      <td>21604.0</td>\n",
       "      <td>79.0</td>\n",
       "      <td>0</td>\n",
       "      <td>Corporate Auto</td>\n",
       "      <td>Four-Door Car</td>\n",
       "      <td>379.200000</td>\n",
       "    </tr>\n",
       "    <tr>\n",
       "      <th>12071</th>\n",
       "      <td>TD14365</td>\n",
       "      <td>California</td>\n",
       "      <td>M</td>\n",
       "      <td>Bachelor</td>\n",
       "      <td>8163.890428</td>\n",
       "      <td>0.0</td>\n",
       "      <td>85.0</td>\n",
       "      <td>3</td>\n",
       "      <td>Corporate Auto</td>\n",
       "      <td>Four-Door Car</td>\n",
       "      <td>790.784983</td>\n",
       "    </tr>\n",
       "    <tr>\n",
       "      <th>12072</th>\n",
       "      <td>UP19263</td>\n",
       "      <td>California</td>\n",
       "      <td>M</td>\n",
       "      <td>College</td>\n",
       "      <td>7524.442436</td>\n",
       "      <td>21941.0</td>\n",
       "      <td>96.0</td>\n",
       "      <td>0</td>\n",
       "      <td>Personal Auto</td>\n",
       "      <td>Four-Door Car</td>\n",
       "      <td>691.200000</td>\n",
       "    </tr>\n",
       "    <tr>\n",
       "      <th>12073</th>\n",
       "      <td>Y167826</td>\n",
       "      <td>California</td>\n",
       "      <td>M</td>\n",
       "      <td>College</td>\n",
       "      <td>2611.836866</td>\n",
       "      <td>0.0</td>\n",
       "      <td>77.0</td>\n",
       "      <td>0</td>\n",
       "      <td>Corporate Auto</td>\n",
       "      <td>Two-Door Car</td>\n",
       "      <td>369.600000</td>\n",
       "    </tr>\n",
       "  </tbody>\n",
       "</table>\n",
       "<p>12074 rows × 11 columns</p>\n",
       "</div>"
      ],
      "text/plain": [
       "      customer          st gender             education  \\\n",
       "0      RB50392  Washington    NaN                Master   \n",
       "1      QZ44356     Arizona      F              Bachelor   \n",
       "2      AI49188      Nevada      F              Bachelor   \n",
       "3      WW63253  California      M              Bachelor   \n",
       "4      GA49547  Washington      M  High School or Below   \n",
       "...        ...         ...    ...                   ...   \n",
       "12069  LA72316  California      M              Bachelor   \n",
       "12070  PK87824  California      F               College   \n",
       "12071  TD14365  California      M              Bachelor   \n",
       "12072  UP19263  California      M               College   \n",
       "12073  Y167826  California      M               College   \n",
       "\n",
       "      customer lifetime value   income  monthly premium auto  \\\n",
       "0                         NaN      0.0                1000.0   \n",
       "1                  697953.59%      0.0                  94.0   \n",
       "2                 1288743.17%  48767.0                 108.0   \n",
       "3                  764586.18%      0.0                 106.0   \n",
       "4                  536307.65%  36357.0                  68.0   \n",
       "...                       ...      ...                   ...   \n",
       "12069             23405.98798  71941.0                  73.0   \n",
       "12070             3096.511217  21604.0                  79.0   \n",
       "12071             8163.890428      0.0                  85.0   \n",
       "12072             7524.442436  21941.0                  96.0   \n",
       "12073             2611.836866      0.0                  77.0   \n",
       "\n",
       "      number of open complaints     policy type  vehicle class  \\\n",
       "0                        1/0/00   Personal Auto  Four-Door Car   \n",
       "1                        1/0/00   Personal Auto  Four-Door Car   \n",
       "2                        1/0/00   Personal Auto   Two-Door Car   \n",
       "3                        1/0/00  Corporate Auto            SUV   \n",
       "4                        1/0/00   Personal Auto  Four-Door Car   \n",
       "...                         ...             ...            ...   \n",
       "12069                         0   Personal Auto  Four-Door Car   \n",
       "12070                         0  Corporate Auto  Four-Door Car   \n",
       "12071                         3  Corporate Auto  Four-Door Car   \n",
       "12072                         0   Personal Auto  Four-Door Car   \n",
       "12073                         0  Corporate Auto   Two-Door Car   \n",
       "\n",
       "       total claim amount  \n",
       "0                2.704934  \n",
       "1             1131.464935  \n",
       "2              566.472247  \n",
       "3              529.881344  \n",
       "4               17.269323  \n",
       "...                   ...  \n",
       "12069          198.234764  \n",
       "12070          379.200000  \n",
       "12071          790.784983  \n",
       "12072          691.200000  \n",
       "12073          369.600000  \n",
       "\n",
       "[12074 rows x 11 columns]"
      ]
     },
     "execution_count": 9,
     "metadata": {},
     "output_type": "execute_result"
    }
   ],
   "source": [
    "combined_df"
   ]
  },
  {
   "cell_type": "code",
   "execution_count": 10,
   "id": "b09fb4f4",
   "metadata": {},
   "outputs": [
    {
     "name": "stdout",
     "output_type": "stream",
     "text": [
      "<class 'pandas.core.frame.DataFrame'>\n",
      "RangeIndex: 12074 entries, 0 to 12073\n",
      "Data columns (total 11 columns):\n",
      " #   Column                     Non-Null Count  Dtype  \n",
      "---  ------                     --------------  -----  \n",
      " 0   customer                   9137 non-null   object \n",
      " 1   st                         9137 non-null   object \n",
      " 2   gender                     9015 non-null   object \n",
      " 3   education                  9137 non-null   object \n",
      " 4   customer lifetime value    9130 non-null   object \n",
      " 5   income                     9137 non-null   float64\n",
      " 6   monthly premium auto       9137 non-null   float64\n",
      " 7   number of open complaints  9137 non-null   object \n",
      " 8   policy type                9137 non-null   object \n",
      " 9   vehicle class              9137 non-null   object \n",
      " 10  total claim amount         9137 non-null   float64\n",
      "dtypes: float64(3), object(8)\n",
      "memory usage: 1.0+ MB\n"
     ]
    }
   ],
   "source": [
    "combined_df.info()"
   ]
  },
  {
   "cell_type": "code",
   "execution_count": 11,
   "id": "5f0eb8c4",
   "metadata": {},
   "outputs": [],
   "source": [
    "combined_df['customer lifetime value']= combined_df ['customer lifetime value'].str.replace(\"%\", \" \")"
   ]
  },
  {
   "cell_type": "code",
   "execution_count": 12,
   "id": "214ee225",
   "metadata": {},
   "outputs": [],
   "source": [
    "#combined_df['number of open complaints']= combined_df['number of open complaints'].str[2]"
   ]
  },
  {
   "cell_type": "code",
   "execution_count": 13,
   "id": "60da24d7",
   "metadata": {},
   "outputs": [],
   "source": [
    "combined_df ['customer lifetime value']= combined_df ['customer lifetime value'].astype(\"float64\")"
   ]
  },
  {
   "cell_type": "code",
   "execution_count": 14,
   "id": "97a21dd3",
   "metadata": {},
   "outputs": [
    {
     "name": "stdout",
     "output_type": "stream",
     "text": [
      "<class 'pandas.core.frame.DataFrame'>\n",
      "RangeIndex: 12074 entries, 0 to 12073\n",
      "Data columns (total 11 columns):\n",
      " #   Column                     Non-Null Count  Dtype  \n",
      "---  ------                     --------------  -----  \n",
      " 0   customer                   9137 non-null   object \n",
      " 1   st                         9137 non-null   object \n",
      " 2   gender                     9015 non-null   object \n",
      " 3   education                  9137 non-null   object \n",
      " 4   customer lifetime value    2060 non-null   float64\n",
      " 5   income                     9137 non-null   float64\n",
      " 6   monthly premium auto       9137 non-null   float64\n",
      " 7   number of open complaints  9137 non-null   object \n",
      " 8   policy type                9137 non-null   object \n",
      " 9   vehicle class              9137 non-null   object \n",
      " 10  total claim amount         9137 non-null   float64\n",
      "dtypes: float64(4), object(7)\n",
      "memory usage: 1.0+ MB\n"
     ]
    }
   ],
   "source": [
    "combined_df.info()"
   ]
  },
  {
   "cell_type": "code",
   "execution_count": 15,
   "id": "b44daed7",
   "metadata": {},
   "outputs": [
    {
     "data": {
      "text/plain": [
       "array([nan, 'F', 'M', 'Femal', 'Male', 'female'], dtype=object)"
      ]
     },
     "execution_count": 15,
     "metadata": {},
     "output_type": "execute_result"
    }
   ],
   "source": [
    "combined_df.gender.unique()"
   ]
  },
  {
   "cell_type": "code",
   "execution_count": 16,
   "id": "055f5e35",
   "metadata": {},
   "outputs": [],
   "source": [
    "combined_df['gender'] = combined_df['gender'].replace(['F', 'Femal', 'female'], 'female')\n",
    "combined_df['gender'] = combined_df['gender'].replace(['M', 'Male'], 'male')"
   ]
  },
  {
   "cell_type": "code",
   "execution_count": 17,
   "id": "3b96a6f6",
   "metadata": {},
   "outputs": [
    {
     "data": {
      "text/plain": [
       "array([nan, 'female', 'male'], dtype=object)"
      ]
     },
     "execution_count": 17,
     "metadata": {},
     "output_type": "execute_result"
    }
   ],
   "source": [
    "combined_df.gender.unique()"
   ]
  },
  {
   "cell_type": "code",
   "execution_count": 18,
   "id": "c9f2266e",
   "metadata": {},
   "outputs": [
    {
     "data": {
      "text/plain": [
       "array([nan, 'female', 'male'], dtype=object)"
      ]
     },
     "execution_count": 18,
     "metadata": {},
     "output_type": "execute_result"
    }
   ],
   "source": [
    "combined_df.gender.unique()"
   ]
  },
  {
   "cell_type": "code",
   "execution_count": 19,
   "id": "08f396f8",
   "metadata": {},
   "outputs": [
    {
     "data": {
      "text/plain": [
       "customer                      2937\n",
       "st                            2937\n",
       "gender                        3059\n",
       "education                     2937\n",
       "customer lifetime value      10014\n",
       "income                        2937\n",
       "monthly premium auto          2937\n",
       "number of open complaints     2937\n",
       "policy type                   2937\n",
       "vehicle class                 2937\n",
       "total claim amount            2937\n",
       "dtype: int64"
      ]
     },
     "execution_count": 19,
     "metadata": {},
     "output_type": "execute_result"
    }
   ],
   "source": [
    "combined_df.isna().sum()"
   ]
  },
  {
   "cell_type": "code",
   "execution_count": 20,
   "id": "72bfce86",
   "metadata": {},
   "outputs": [
    {
     "data": {
      "text/html": [
       "<div>\n",
       "<style scoped>\n",
       "    .dataframe tbody tr th:only-of-type {\n",
       "        vertical-align: middle;\n",
       "    }\n",
       "\n",
       "    .dataframe tbody tr th {\n",
       "        vertical-align: top;\n",
       "    }\n",
       "\n",
       "    .dataframe thead th {\n",
       "        text-align: right;\n",
       "    }\n",
       "</style>\n",
       "<table border=\"1\" class=\"dataframe\">\n",
       "  <thead>\n",
       "    <tr style=\"text-align: right;\">\n",
       "      <th></th>\n",
       "      <th>header_name</th>\n",
       "      <th>percent_nulls</th>\n",
       "    </tr>\n",
       "  </thead>\n",
       "  <tbody>\n",
       "    <tr>\n",
       "      <th>0</th>\n",
       "      <td>customer</td>\n",
       "      <td>24.32</td>\n",
       "    </tr>\n",
       "    <tr>\n",
       "      <th>1</th>\n",
       "      <td>st</td>\n",
       "      <td>24.32</td>\n",
       "    </tr>\n",
       "    <tr>\n",
       "      <th>2</th>\n",
       "      <td>gender</td>\n",
       "      <td>25.34</td>\n",
       "    </tr>\n",
       "    <tr>\n",
       "      <th>3</th>\n",
       "      <td>education</td>\n",
       "      <td>24.32</td>\n",
       "    </tr>\n",
       "    <tr>\n",
       "      <th>4</th>\n",
       "      <td>customer lifetime value</td>\n",
       "      <td>82.94</td>\n",
       "    </tr>\n",
       "    <tr>\n",
       "      <th>5</th>\n",
       "      <td>income</td>\n",
       "      <td>24.32</td>\n",
       "    </tr>\n",
       "    <tr>\n",
       "      <th>6</th>\n",
       "      <td>monthly premium auto</td>\n",
       "      <td>24.32</td>\n",
       "    </tr>\n",
       "    <tr>\n",
       "      <th>7</th>\n",
       "      <td>number of open complaints</td>\n",
       "      <td>24.32</td>\n",
       "    </tr>\n",
       "    <tr>\n",
       "      <th>8</th>\n",
       "      <td>policy type</td>\n",
       "      <td>24.32</td>\n",
       "    </tr>\n",
       "    <tr>\n",
       "      <th>9</th>\n",
       "      <td>vehicle class</td>\n",
       "      <td>24.32</td>\n",
       "    </tr>\n",
       "    <tr>\n",
       "      <th>10</th>\n",
       "      <td>total claim amount</td>\n",
       "      <td>24.32</td>\n",
       "    </tr>\n",
       "  </tbody>\n",
       "</table>\n",
       "</div>"
      ],
      "text/plain": [
       "                  header_name  percent_nulls\n",
       "0                    customer          24.32\n",
       "1                          st          24.32\n",
       "2                      gender          25.34\n",
       "3                   education          24.32\n",
       "4     customer lifetime value          82.94\n",
       "5                      income          24.32\n",
       "6        monthly premium auto          24.32\n",
       "7   number of open complaints          24.32\n",
       "8                 policy type          24.32\n",
       "9               vehicle class          24.32\n",
       "10         total claim amount          24.32"
      ]
     },
     "execution_count": 20,
     "metadata": {},
     "output_type": "execute_result"
    }
   ],
   "source": [
    "nulls_combined_df = pd.DataFrame(round(combined_df.isna().sum()/len(combined_df),4)*100)\n",
    "nulls_combined_df = nulls_combined_df.reset_index()\n",
    "nulls_combined_df.columns = ['header_name', 'percent_nulls']\n",
    "nulls_combined_df"
   ]
  },
  {
   "cell_type": "code",
   "execution_count": 21,
   "id": "e42a7f75",
   "metadata": {},
   "outputs": [],
   "source": [
    "combined_df = combined_df.dropna(subset = \"customer\")"
   ]
  },
  {
   "cell_type": "code",
   "execution_count": 22,
   "id": "01e726b3",
   "metadata": {},
   "outputs": [],
   "source": [
    "combined_df = combined_df.reset_index(drop=True)"
   ]
  },
  {
   "cell_type": "code",
   "execution_count": 23,
   "id": "f6731d68",
   "metadata": {},
   "outputs": [
    {
     "data": {
      "text/plain": [
       "customer                        0\n",
       "st                              0\n",
       "gender                        122\n",
       "education                       0\n",
       "customer lifetime value      7077\n",
       "income                          0\n",
       "monthly premium auto            0\n",
       "number of open complaints       0\n",
       "policy type                     0\n",
       "vehicle class                   0\n",
       "total claim amount              0\n",
       "dtype: int64"
      ]
     },
     "execution_count": 23,
     "metadata": {},
     "output_type": "execute_result"
    }
   ],
   "source": [
    "combined_df.isna().sum()"
   ]
  },
  {
   "cell_type": "code",
   "execution_count": 24,
   "id": "fef8c6ca",
   "metadata": {},
   "outputs": [],
   "source": [
    "mode_value = combined_df['gender'].mode()[0]"
   ]
  },
  {
   "cell_type": "code",
   "execution_count": 25,
   "id": "953207bc",
   "metadata": {},
   "outputs": [],
   "source": [
    "combined_df['gender'].fillna(mode_value, inplace=True)"
   ]
  },
  {
   "cell_type": "code",
   "execution_count": 26,
   "id": "0c397dbb",
   "metadata": {},
   "outputs": [
    {
     "data": {
      "text/plain": [
       "customer                        0\n",
       "st                              0\n",
       "gender                          0\n",
       "education                       0\n",
       "customer lifetime value      7077\n",
       "income                          0\n",
       "monthly premium auto            0\n",
       "number of open complaints       0\n",
       "policy type                     0\n",
       "vehicle class                   0\n",
       "total claim amount              0\n",
       "dtype: int64"
      ]
     },
     "execution_count": 26,
     "metadata": {},
     "output_type": "execute_result"
    }
   ],
   "source": [
    "combined_df.isna().sum()"
   ]
  },
  {
   "cell_type": "code",
   "execution_count": 27,
   "id": "4ccef83b",
   "metadata": {},
   "outputs": [],
   "source": [
    "mean_value = combined_df['customer lifetime value'].mean()"
   ]
  },
  {
   "cell_type": "code",
   "execution_count": 28,
   "id": "6e93f69c",
   "metadata": {},
   "outputs": [],
   "source": [
    "combined_df['customer lifetime value'].fillna(mean_value, inplace=True)"
   ]
  },
  {
   "cell_type": "code",
   "execution_count": 29,
   "id": "d1f6f1cc",
   "metadata": {},
   "outputs": [
    {
     "data": {
      "text/plain": [
       "customer                     0\n",
       "st                           0\n",
       "gender                       0\n",
       "education                    0\n",
       "customer lifetime value      0\n",
       "income                       0\n",
       "monthly premium auto         0\n",
       "number of open complaints    0\n",
       "policy type                  0\n",
       "vehicle class                0\n",
       "total claim amount           0\n",
       "dtype: int64"
      ]
     },
     "execution_count": 29,
     "metadata": {},
     "output_type": "execute_result"
    }
   ],
   "source": [
    "combined_df.isna().sum()"
   ]
  }
 ],
 "metadata": {
  "kernelspec": {
   "display_name": "Python 3 (ipykernel)",
   "language": "python",
   "name": "python3"
  },
  "language_info": {
   "codemirror_mode": {
    "name": "ipython",
    "version": 3
   },
   "file_extension": ".py",
   "mimetype": "text/x-python",
   "name": "python",
   "nbconvert_exporter": "python",
   "pygments_lexer": "ipython3",
   "version": "3.10.9"
  }
 },
 "nbformat": 4,
 "nbformat_minor": 5
}
