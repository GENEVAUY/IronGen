{
 "cells": [
  {
   "cell_type": "markdown",
   "id": "15a85a80",
   "metadata": {},
   "source": [
    "Challenge 2: Structuring Data In this challenge, we will continue to work with customer data from an insurance company, but we will use a dataset with more columns, called marketing_customer_analysis.csv, which can be found at the following link:\n",
    "https://raw.githubusercontent.com/data-bootcamp-v4/data/main/marketing_customer_analysis.csv\n",
    "This dataset contains information such as customer demographics, policy details, vehicle information, and the customer's response to the last marketing campaign. Our goal is to explore and analyze this data by performing data cleaning, formatting, and structuring.\n",
    "Exercise 1: Clean and Format the Data While the dataset has been partially cleaned and formatted, we still need to perform several data cleaning tasks. Specifically, we need to standardize the column names, clean null values, convert the effective_to_date column to datetime, and extract the months from the dataset and store them in a separate column.\n",
    "To accomplish these tasks, we will use the functions created in the previous step to standardize the column names and deal with null values, and then we will apply additional functions to convert the effective_to_date column to datetime and extract the months.\n",
    "Save the clean dataset into a csv file."
   ]
  },
  {
   "cell_type": "code",
   "execution_count": 7,
   "id": "b9caa00f",
   "metadata": {},
   "outputs": [],
   "source": [
    "import pandas as pd"
   ]
  },
  {
   "cell_type": "code",
   "execution_count": null,
   "id": "4e095abb",
   "metadata": {},
   "outputs": [],
   "source": [
    "df = pd.read_csv (\"https://raw.githubusercontent.com/data-bootcamp-v4/data/main/marketing_customer_analysis.csv\")"
   ]
  },
  {
   "cell_type": "code",
   "execution_count": null,
   "id": "5a5be4b1",
   "metadata": {},
   "outputs": [],
   "source": [
    "df"
   ]
  },
  {
   "cell_type": "code",
   "execution_count": null,
   "id": "e8bdb9e8",
   "metadata": {},
   "outputs": [],
   "source": [
    "df= df.rename(columns=str.lower)"
   ]
  },
  {
   "cell_type": "code",
   "execution_count": null,
   "id": "ea226c42",
   "metadata": {},
   "outputs": [],
   "source": [
    "def rename_columns(df):\n",
    "    df.rename (columns = {'effective to date':'datetime'}, inplace=True)\n",
    "    return df\n",
    "\n",
    "df = rename_columns(df)\n",
    "df"
   ]
  },
  {
   "cell_type": "code",
   "execution_count": null,
   "id": "dc379f3f",
   "metadata": {},
   "outputs": [],
   "source": [
    "df.drop('unnamed: 0', axis=1, inplace=True)"
   ]
  },
  {
   "cell_type": "code",
   "execution_count": null,
   "id": "c61402fb",
   "metadata": {},
   "outputs": [],
   "source": [
    "df = df.reset_index(drop=True)\n",
    "df"
   ]
  },
  {
   "cell_type": "code",
   "execution_count": null,
   "id": "d98d5a3c",
   "metadata": {},
   "outputs": [],
   "source": [
    "df.isna().sum()"
   ]
  },
  {
   "cell_type": "code",
   "execution_count": null,
   "id": "a1f00fce",
   "metadata": {},
   "outputs": [],
   "source": [
    "df = df.dropna(subset = \"vehicle type\")"
   ]
  },
  {
   "cell_type": "code",
   "execution_count": null,
   "id": "0e8e8316",
   "metadata": {},
   "outputs": [],
   "source": [
    "df = df.reset_index(drop=True)"
   ]
  },
  {
   "cell_type": "code",
   "execution_count": null,
   "id": "6798f1ce",
   "metadata": {},
   "outputs": [],
   "source": [
    "df.isna().sum()"
   ]
  },
  {
   "cell_type": "code",
   "execution_count": null,
   "id": "ad215906",
   "metadata": {},
   "outputs": [],
   "source": [
    "df = df.dropna(subset = \"response\")"
   ]
  },
  {
   "cell_type": "code",
   "execution_count": null,
   "id": "e700b0bc",
   "metadata": {},
   "outputs": [],
   "source": [
    "df = df.reset_index(drop=True)"
   ]
  },
  {
   "cell_type": "code",
   "execution_count": null,
   "id": "aaebd020",
   "metadata": {},
   "outputs": [],
   "source": [
    "df.isna().sum()"
   ]
  },
  {
   "cell_type": "code",
   "execution_count": null,
   "id": "0f534f37",
   "metadata": {},
   "outputs": [],
   "source": [
    "df = df.dropna(subset = \"number of open complaints\")"
   ]
  },
  {
   "cell_type": "code",
   "execution_count": null,
   "id": "8cfc3564",
   "metadata": {},
   "outputs": [],
   "source": [
    "df = df.reset_index(drop=True)"
   ]
  },
  {
   "cell_type": "code",
   "execution_count": null,
   "id": "eea2225d",
   "metadata": {},
   "outputs": [],
   "source": [
    "df.isna().sum()"
   ]
  },
  {
   "cell_type": "code",
   "execution_count": null,
   "id": "894fdf24",
   "metadata": {},
   "outputs": [],
   "source": [
    "mode_value1 = df['vehicle class'].mode()[0]"
   ]
  },
  {
   "cell_type": "code",
   "execution_count": null,
   "id": "76ed1b03",
   "metadata": {},
   "outputs": [],
   "source": [
    "df['vehicle class'].fillna(mode_value1, inplace=True)"
   ]
  },
  {
   "cell_type": "code",
   "execution_count": null,
   "id": "24c0c18a",
   "metadata": {},
   "outputs": [],
   "source": [
    "df.isna().sum()"
   ]
  },
  {
   "cell_type": "code",
   "execution_count": null,
   "id": "b7961c21",
   "metadata": {},
   "outputs": [],
   "source": [
    "mode_value2 = df['vehicle size'].mode()[0]"
   ]
  },
  {
   "cell_type": "code",
   "execution_count": null,
   "id": "17f7d4bd",
   "metadata": {},
   "outputs": [],
   "source": [
    "df['vehicle size'].fillna(mode_value2, inplace=True)"
   ]
  },
  {
   "cell_type": "code",
   "execution_count": null,
   "id": "b1728704",
   "metadata": {},
   "outputs": [],
   "source": [
    "df.isna().sum()"
   ]
  },
  {
   "cell_type": "code",
   "execution_count": null,
   "id": "cbbebdbc",
   "metadata": {},
   "outputs": [],
   "source": [
    "#df['datetime'] = pd.to_datetime(df['datetime'])"
   ]
  },
  {
   "cell_type": "code",
   "execution_count": null,
   "id": "e59109f4",
   "metadata": {},
   "outputs": [],
   "source": [
    "#df['month'] = df['datetime'].dt.month\n",
    "#df"
   ]
  },
  {
   "cell_type": "code",
   "execution_count": null,
   "id": "e6766a6c",
   "metadata": {},
   "outputs": [],
   "source": [
    "df"
   ]
  },
  {
   "cell_type": "code",
   "execution_count": null,
   "id": "b0b2d455",
   "metadata": {},
   "outputs": [],
   "source": [
    "df"
   ]
  },
  {
   "cell_type": "code",
   "execution_count": null,
   "id": "800205c3",
   "metadata": {},
   "outputs": [],
   "source": [
    "df['datetime'] = pd.to_datetime(df['datetime'], format='%m/%d/%y')\n"
   ]
  },
  {
   "cell_type": "code",
   "execution_count": null,
   "id": "918d13bd",
   "metadata": {},
   "outputs": [],
   "source": [
    "df['month'] = df['datetime'].dt.strftime('%m')\n"
   ]
  },
  {
   "cell_type": "code",
   "execution_count": null,
   "id": "074278ea",
   "metadata": {},
   "outputs": [],
   "source": [
    "df['datetime'] = df['datetime'].dt.strftime('%m/%d/%y')"
   ]
  },
  {
   "cell_type": "code",
   "execution_count": null,
   "id": "1deb0ced",
   "metadata": {},
   "outputs": [],
   "source": [
    "df"
   ]
  },
  {
   "cell_type": "markdown",
   "id": "6a7c8743",
   "metadata": {},
   "source": [
    "Create a summary tableshowing the total re venue for each sales channel (branch, call center, web, and mail).\n",
    "Round the total_claim_amount to 2 decimal points. Analyze the resulting table to draw insights."
   ]
  },
  {
   "cell_type": "code",
   "execution_count": null,
   "id": "71fd544c",
   "metadata": {},
   "outputs": [],
   "source": [
    "df['total_claim_amount'] = df['total_claim_amount'].round(2)\n",
    "\n",
    "# Grouping DataFrame by 'sales_channel' and calculate the sum of 'total_claim_amount' for each channel\n",
    "summary_table = df.groupby('sales channel')['total claim amount'].sum().reset_index()\n",
    "\n",
    "print(summary_table)"
   ]
  },
  {
   "cell_type": "markdown",
   "id": "fa9512be",
   "metadata": {},
   "source": [
    "Create a pivot table showing the average customer lifetime value per gender and education level. Analyze the resulting table to draw insights."
   ]
  },
  {
   "cell_type": "code",
   "execution_count": null,
   "id": "41cdb579",
   "metadata": {},
   "outputs": [],
   "source": [
    "pivot_table = pd.pivot_table(df, values='customer lifetime value', index='gender', columns='education level', aggfunc='mean')\n",
    "\n",
    "\n",
    "print(pivot_table)"
   ]
  },
  {
   "cell_type": "markdown",
   "id": "6fab5a69",
   "metadata": {},
   "source": [
    "Create a summary table showing the number of complaints by policy type and month.\n",
    "Show it in a long format table."
   ]
  },
  {
   "cell_type": "code",
   "execution_count": null,
   "id": "8b994c63",
   "metadata": {},
   "outputs": [],
   "source": [
    "df['complaint_date'] = pd.to_datetime(df['complaint_date'])\n",
    "\n",
    "# Extract the month from the 'complaint_date' column\n",
    "df['month'] = df['complaint_date'].dt.strftime('%B')\n",
    "\n",
    "# Group the DataFrame by 'policy_type' and 'month' and calculate the count of complaints\n",
    "summary_table = df.groupby(['policy_type', 'month']).size().reset_index(name='num_complaints')\n",
    "\n",
    "# Display the summary table in long format\n",
    "print(summary_table)"
   ]
  }
 ],
 "metadata": {
  "kernelspec": {
   "display_name": "Python 3 (ipykernel)",
   "language": "python",
   "name": "python3"
  },
  "language_info": {
   "codemirror_mode": {
    "name": "ipython",
    "version": 3
   },
   "file_extension": ".py",
   "mimetype": "text/x-python",
   "name": "python",
   "nbconvert_exporter": "python",
   "pygments_lexer": "ipython3",
   "version": "3.10.9"
  }
 },
 "nbformat": 4,
 "nbformat_minor": 5
}
