{
 "cells": [
  {
   "cell_type": "code",
   "execution_count": null,
   "id": "ecb18b71",
   "metadata": {},
   "outputs": [],
   "source": [
    "\n",
    "\n",
    "\n",
    "Then, answer the following questions:\n",
    "\n",
    "Create a new DataFrame that only includes customers who have a total_claim_amount greater than $1,000 and have a response of \"Yes\" to the last marketing campaign.\n",
    "Analyze the average total_claim_amount by each policy type and gender for customers who have responded \"Yes\" to the last marketing campaign.\n",
    "Analyze the total number of customers who have policies in each state, and then filter the results to only include states where there are more than 500 customers.\n",
    "Find the median customer lifetime value by education level and gender.\n",
    "Find the maximum, minimum, and average number of open complaints by state and policy type.\n",
    "The marketing team wants to analyze the number of policies sold by state and month.\n",
    "Present the data in a table where the months are arranged as columns and the states are arranged as rows.\n",
    "\n",
    "Display a new DataFrame that contains the number of policies sold by month by state for the top 3 states with the highest number of policies sold.\n",
    "Hint:\n",
    "\n",
    "To accomplish this, you will first need to group the data by state and month, then count the number of policies sold for each group. Afterwards, you will need to sort the data by the count of policies sold in descending order.\n",
    "Next, you will select the top 3 states with the highest number of policies sold.\n",
    "Finally, you will create a new DataFrame that contains the number of policies sold by month for each of the top 3 states.\n",
    "The marketing team wants to analyze the effect of different marketing channels on the customer response rate.\n",
    "Hint: You can use melt to unpivot the data and create a table that shows the customer response rate (those who responded \"Yes\") by marketing channel.\n",
    "\n",
    "External Resources for Data Filtering: https://towardsdatascience.com/filtering-data-frames-in-pandas-b570b1f834b9"
   ]
  }
 ],
 "metadata": {
  "kernelspec": {
   "display_name": "Python 3 (ipykernel)",
   "language": "python",
   "name": "python3"
  },
  "language_info": {
   "codemirror_mode": {
    "name": "ipython",
    "version": 3
   },
   "file_extension": ".py",
   "mimetype": "text/x-python",
   "name": "python",
   "nbconvert_exporter": "python",
   "pygments_lexer": "ipython3",
   "version": "3.10.9"
  }
 },
 "nbformat": 4,
 "nbformat_minor": 5
}
