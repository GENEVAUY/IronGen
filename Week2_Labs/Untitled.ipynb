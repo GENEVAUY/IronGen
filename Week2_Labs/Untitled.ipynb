{
 "cells": [
  {
   "cell_type": "markdown",
   "id": "0fff6b90",
   "metadata": {},
   "source": [
    "Given a string consisting of words and spaces, return the length of the last word in the string. \n",
    "A word is a maximal substring consisting of non-space characters only.\n",
    "\n",
    "Input s = \"fly me ot the moon\""
   ]
  },
  {
   "cell_type": "code",
   "execution_count": 4,
   "id": "aa5a2b66",
   "metadata": {},
   "outputs": [
    {
     "name": "stdout",
     "output_type": "stream",
     "text": [
      "4\n"
     ]
    }
   ],
   "source": [
    "def length_of_last_word(s):\n",
    "    words = s.split()  # Split the string into words\n",
    "    last_word = words[-1]  # Retrieve the last word\n",
    "    return len(last_word)  # Return the length of the last word\n",
    "\n",
    "s = \"fly me ot the moon\" #to test\n",
    "print(length_of_last_word(s))\n"
   ]
  },
  {
   "cell_type": "code",
   "execution_count": null,
   "id": "fd7e2d9e",
   "metadata": {},
   "outputs": [],
   "source": []
  }
 ],
 "metadata": {
  "kernelspec": {
   "display_name": "Python 3 (ipykernel)",
   "language": "python",
   "name": "python3"
  },
  "language_info": {
   "codemirror_mode": {
    "name": "ipython",
    "version": 3
   },
   "file_extension": ".py",
   "mimetype": "text/x-python",
   "name": "python",
   "nbconvert_exporter": "python",
   "pygments_lexer": "ipython3",
   "version": "3.10.9"
  }
 },
 "nbformat": 4,
 "nbformat_minor": 5
}
