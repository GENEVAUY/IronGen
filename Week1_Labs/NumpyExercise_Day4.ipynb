{
 "cells": [
  {
   "cell_type": "markdown",
   "id": "754b78d0",
   "metadata": {},
   "source": [
    "# Numpy exercises"
   ]
  },
  {
   "cell_type": "markdown",
   "id": "f7c5a9e6",
   "metadata": {},
   "source": [
    "1. Import the numpy package under the name np"
   ]
  },
  {
   "cell_type": "markdown",
   "id": "bb90c8c0",
   "metadata": {},
   "source": [
    " hint: import … as"
   ]
  },
  {
   "cell_type": "code",
   "execution_count": 37,
   "id": "a01f7624",
   "metadata": {},
   "outputs": [],
   "source": [
    "import numpy as np"
   ]
  },
  {
   "cell_type": "markdown",
   "id": "dcda6b25",
   "metadata": {},
   "source": [
    "Create a null vector of size 10 "
   ]
  },
  {
   "cell_type": "markdown",
   "id": "384ca66c",
   "metadata": {},
   "source": [
    "hint: np.zeros"
   ]
  },
  {
   "cell_type": "code",
   "execution_count": 38,
   "id": "838fd7da",
   "metadata": {},
   "outputs": [
    {
     "name": "stdout",
     "output_type": "stream",
     "text": [
      "[0. 0. 0. 0. 0. 0. 0. 0. 0. 0.]\n"
     ]
    }
   ],
   "source": [
    "null_vector = np.zeros(10)\n",
    "\n",
    "print(null_vector)"
   ]
  },
  {
   "cell_type": "markdown",
   "id": "009873b7",
   "metadata": {},
   "source": [
    "Create a null vector of size 10 but the fifth value which is 1"
   ]
  },
  {
   "cell_type": "markdown",
   "id": "12aa572f",
   "metadata": {},
   "source": [
    "hint: array[4]"
   ]
  },
  {
   "cell_type": "code",
   "execution_count": 39,
   "id": "c9910338",
   "metadata": {},
   "outputs": [
    {
     "name": "stdout",
     "output_type": "stream",
     "text": [
      "[0. 0. 0. 0. 1. 0. 0. 0. 0. 0.]\n"
     ]
    }
   ],
   "source": [
    "null_vector = np.zeros(10)\n",
    "\n",
    "null_vector[4] = 1\n",
    "\n",
    "print(null_vector)"
   ]
  },
  {
   "cell_type": "markdown",
   "id": "586d5144",
   "metadata": {},
   "source": [
    "Create a vector with values ranging from 10 to 49"
   ]
  },
  {
   "cell_type": "markdown",
   "id": "8ffc67d1",
   "metadata": {},
   "source": [
    "hint: arange"
   ]
  },
  {
   "cell_type": "code",
   "execution_count": 40,
   "id": "525bc201",
   "metadata": {},
   "outputs": [
    {
     "name": "stdout",
     "output_type": "stream",
     "text": [
      "[10 11 12 13 14 15 16 17 18 19 20 21 22 23 24 25 26 27 28 29 30 31 32 33\n",
      " 34 35 36 37 38 39 40 41 42 43 44 45 46 47 48 49]\n"
     ]
    }
   ],
   "source": [
    "vector = np.arange(10, 50)\n",
    "\n",
    "print(vector)"
   ]
  },
  {
   "cell_type": "markdown",
   "id": "e2456966",
   "metadata": {},
   "source": [
    "Create a 3x3 matrix with values ranging from 0 to 8"
   ]
  },
  {
   "cell_type": "markdown",
   "id": "9546bd01",
   "metadata": {},
   "source": [
    "hint: reshape"
   ]
  },
  {
   "cell_type": "code",
   "execution_count": 41,
   "id": "1e41ab4b",
   "metadata": {},
   "outputs": [
    {
     "name": "stdout",
     "output_type": "stream",
     "text": [
      "[[0 1 2]\n",
      " [3 4 5]\n",
      " [6 7 8]]\n"
     ]
    }
   ],
   "source": [
    "matrix = np.arange(9).reshape(3, 3)\n",
    "\n",
    "print(matrix)\n"
   ]
  },
  {
   "cell_type": "markdown",
   "id": "98cf9f10",
   "metadata": {},
   "source": [
    "Find indices of non-zero elements from [1,2,0,0,4,0]"
   ]
  },
  {
   "cell_type": "markdown",
   "id": "8fead76d",
   "metadata": {},
   "source": [
    "hint: np.nonzero"
   ]
  },
  {
   "cell_type": "code",
   "execution_count": 42,
   "id": "a5b7ad44",
   "metadata": {},
   "outputs": [
    {
     "name": "stdout",
     "output_type": "stream",
     "text": [
      "(array([0, 1, 4]),)\n"
     ]
    }
   ],
   "source": [
    "elements = [1, 2, 0, 0, 4, 0]\n",
    "\n",
    "arr = np.array(elements)\n",
    "\n",
    "non_zero = np.nonzero(arr)\n",
    "\n",
    "print(non_zero)\n"
   ]
  },
  {
   "cell_type": "markdown",
   "id": "6f5a2ca3",
   "metadata": {},
   "source": [
    "Create a 3x3 identity matrix"
   ]
  },
  {
   "cell_type": "markdown",
   "id": "dda2a5c2",
   "metadata": {},
   "source": [
    "hint: np.eye"
   ]
  },
  {
   "cell_type": "code",
   "execution_count": 43,
   "id": "9e44c47c",
   "metadata": {},
   "outputs": [
    {
     "name": "stdout",
     "output_type": "stream",
     "text": [
      "[[1. 0. 0.]\n",
      " [0. 1. 0.]\n",
      " [0. 0. 1.]]\n"
     ]
    }
   ],
   "source": [
    "identity_matrix = np.eye(3)\n",
    "\n",
    "print(identity_matrix)\n"
   ]
  },
  {
   "cell_type": "markdown",
   "id": "e119844e",
   "metadata": {},
   "source": [
    "Create a 3x3x3 array with random values"
   ]
  },
  {
   "cell_type": "markdown",
   "id": "5f8d8320",
   "metadata": {},
   "source": [
    "hint: np.random.random"
   ]
  },
  {
   "cell_type": "code",
   "execution_count": 44,
   "id": "2dda3e31",
   "metadata": {},
   "outputs": [
    {
     "name": "stdout",
     "output_type": "stream",
     "text": [
      "[[[0.88766517 0.228694   0.7760802 ]\n",
      "  [0.91319433 0.2296263  0.44543883]\n",
      "  [0.88696273 0.94890799 0.56218279]]\n",
      "\n",
      " [[0.61929474 0.15089364 0.99154817]\n",
      "  [0.33607636 0.89771796 0.6738765 ]\n",
      "  [0.15881203 0.48747924 0.88390598]]\n",
      "\n",
      " [[0.37523015 0.16556093 0.39079158]\n",
      "  [0.01540735 0.70679207 0.48062206]\n",
      "  [0.54011005 0.15293922 0.44329893]]]\n"
     ]
    }
   ],
   "source": [
    "array = np.random.random((3, 3, 3))\n",
    "\n",
    "print(array)"
   ]
  },
  {
   "cell_type": "markdown",
   "id": "44097b11",
   "metadata": {},
   "source": [
    "Create a 10x10 array with random values and find the minimum and maximum values"
   ]
  },
  {
   "cell_type": "markdown",
   "id": "0e26a545",
   "metadata": {},
   "source": [
    "hint: min, max"
   ]
  },
  {
   "cell_type": "code",
   "execution_count": 45,
   "id": "d5bf20bb",
   "metadata": {},
   "outputs": [
    {
     "name": "stdout",
     "output_type": "stream",
     "text": [
      "Array:\n",
      "[[0.4192484  0.76077828 0.46054919 0.41220322 0.08804392 0.53391332\n",
      "  0.04065479 0.14565103 0.22172767 0.66353715]\n",
      " [0.61486586 0.07820162 0.38382279 0.84271845 0.16966554 0.7024445\n",
      "  0.06944383 0.22716325 0.58519766 0.94587576]\n",
      " [0.16922802 0.74896672 0.36084932 0.79923696 0.90915289 0.76480658\n",
      "  0.88264871 0.70438925 0.70603879 0.90712236]\n",
      " [0.47953785 0.50090235 0.52927289 0.13480516 0.6825749  0.9819378\n",
      "  0.07532269 0.37185141 0.94336783 0.06054071]\n",
      " [0.16963774 0.41659167 0.70341272 0.79738862 0.89866739 0.13406603\n",
      "  0.68262082 0.73304145 0.15225565 0.43204436]\n",
      " [0.28960682 0.53488009 0.6588696  0.78787519 0.3765018  0.30739189\n",
      "  0.41393479 0.03476261 0.94792788 0.31582821]\n",
      " [0.20316555 0.65263145 0.69051373 0.81394327 0.69741159 0.58185733\n",
      "  0.16955649 0.1799659  0.87251342 0.54191109]\n",
      " [0.30083355 0.85006732 0.85562182 0.51318896 0.87420603 0.87972691\n",
      "  0.83250737 0.38309894 0.26026483 0.50538166]\n",
      " [0.22268814 0.44119106 0.58248857 0.09186037 0.06923462 0.36085969\n",
      "  0.96458235 0.87477621 0.66232738 0.48252881]\n",
      " [0.30430157 0.01159346 0.23014885 0.57572206 0.37383149 0.42920742\n",
      "  0.16723304 0.00144926 0.62028258 0.17090336]]\n"
     ]
    }
   ],
   "source": [
    "array = np.random.random((10, 10))\n",
    "print(\"Array:\")\n",
    "print(array)"
   ]
  },
  {
   "cell_type": "code",
   "execution_count": 46,
   "id": "fbfd0be4",
   "metadata": {},
   "outputs": [
    {
     "name": "stdout",
     "output_type": "stream",
     "text": [
      "Minimum value: 0.0014492628811973995\n",
      "Maximum value: 0.9819377954539408\n"
     ]
    }
   ],
   "source": [
    "min_value = np.min(array)\n",
    "max_value = np.max(array)\n",
    "\n",
    "print(\"Minimum value:\", min_value)\n",
    "print(\"Maximum value:\", max_value)"
   ]
  },
  {
   "cell_type": "markdown",
   "id": "dcfbeaf8",
   "metadata": {},
   "source": [
    " Create a random vector of size 30 and find the mean value"
   ]
  },
  {
   "cell_type": "markdown",
   "id": "073c1a70",
   "metadata": {},
   "source": [
    "hint: mean"
   ]
  },
  {
   "cell_type": "code",
   "execution_count": 47,
   "id": "413dd1c8",
   "metadata": {},
   "outputs": [
    {
     "name": "stdout",
     "output_type": "stream",
     "text": [
      "Random Vector:\n",
      "[0.69152696 0.98214607 0.38100912 0.67116582 0.2047102  0.01966242\n",
      " 0.96000569 0.72872303 0.86930621 0.59398232 0.67624272 0.76441384\n",
      " 0.96313657 0.17468454 0.28706563 0.86405802 0.7680313  0.68817829\n",
      " 0.98425849 0.61953789 0.77127046 0.12230892 0.83719182 0.73127195\n",
      " 0.56208164 0.82938429 0.34345617 0.47514753 0.5432327  0.34062693]\n"
     ]
    }
   ],
   "source": [
    "vector = np.random.random(30)\n",
    "\n",
    "print(\"Random Vector:\")\n",
    "\n",
    "print(vector)"
   ]
  },
  {
   "cell_type": "code",
   "execution_count": 48,
   "id": "e1391a7d",
   "metadata": {},
   "outputs": [
    {
     "name": "stdout",
     "output_type": "stream",
     "text": [
      "Mean value: 0.6149272509142303\n"
     ]
    }
   ],
   "source": [
    "mean_value = np.mean(vector)\n",
    "\n",
    "print(\"Mean value:\", mean_value)"
   ]
  },
  {
   "cell_type": "markdown",
   "id": "029a52f6",
   "metadata": {},
   "source": [
    "Create a 5x5 matrix with values 1,2,3,4 just below the diagonal "
   ]
  },
  {
   "cell_type": "markdown",
   "id": "10ca0403",
   "metadata": {},
   "source": [
    "hint: np.diag"
   ]
  },
  {
   "cell_type": "code",
   "execution_count": 49,
   "id": "36d79c21",
   "metadata": {},
   "outputs": [
    {
     "name": "stdout",
     "output_type": "stream",
     "text": [
      "[[0 0 0 0 0]\n",
      " [1 0 0 0 0]\n",
      " [0 2 0 0 0]\n",
      " [0 0 3 0 0]\n",
      " [0 0 0 4 0]]\n"
     ]
    }
   ],
   "source": [
    "values = [1, 2, 3, 4]\n",
    "matrix = np.diag(values, k=-1)\n",
    "\n",
    "print(matrix)"
   ]
  },
  {
   "cell_type": "markdown",
   "id": "c721b8fb",
   "metadata": {},
   "source": [
    "Normalize a 5x5 random matrix"
   ]
  },
  {
   "cell_type": "markdown",
   "id": "dca9281e",
   "metadata": {},
   "source": [
    "hint: (x -mean)/std"
   ]
  },
  {
   "cell_type": "code",
   "execution_count": 50,
   "id": "0b3e85ec",
   "metadata": {},
   "outputs": [
    {
     "name": "stdout",
     "output_type": "stream",
     "text": [
      "[[-1.10012465 -0.76394298  0.11151729  1.20366152  0.3946426 ]\n",
      " [-0.13918488 -1.68738986 -0.56664967 -0.24090271 -0.6213454 ]\n",
      " [ 1.0473198   1.39499815  0.78527485  1.12494577  1.52317085]\n",
      " [-0.73548322 -1.18812543  0.927685   -1.70827045 -1.43152548]\n",
      " [ 1.04081436  0.74033766  0.6029218   0.22656231 -0.94090724]]\n"
     ]
    }
   ],
   "source": [
    "matrix = np.random.random((5, 5))\n",
    "\n",
    "mean = np.mean(matrix)\n",
    "std = np.std(matrix)\n",
    "\n",
    "normalized_matrix = (matrix - mean) / std\n",
    "\n",
    "print(normalized_matrix)\n"
   ]
  },
  {
   "cell_type": "markdown",
   "id": "e44b03bf",
   "metadata": {},
   "source": [
    "How to find common values between two arrays?"
   ]
  },
  {
   "cell_type": "markdown",
   "id": "8902b343",
   "metadata": {},
   "source": [
    "hint: np.intersect1d"
   ]
  },
  {
   "cell_type": "code",
   "execution_count": 51,
   "id": "fb0fe913",
   "metadata": {},
   "outputs": [
    {
     "name": "stdout",
     "output_type": "stream",
     "text": [
      "[2.04 2.11]\n"
     ]
    }
   ],
   "source": [
    "first_sample = np.array([02.11, 08.30, 02.04])\n",
    "second_sample = np.array([02.04, 02.11, 02.28])\n",
    "\n",
    "common_values = np.intersect1d(first_sample, second_sample)\n",
    "\n",
    "print(common_values)\n"
   ]
  },
  {
   "cell_type": "markdown",
   "id": "c5484e94",
   "metadata": {},
   "source": [
    "Create a random vector of size 10 and sort it"
   ]
  },
  {
   "cell_type": "markdown",
   "id": "620d9ce0",
   "metadata": {},
   "source": [
    "hint: sort"
   ]
  },
  {
   "cell_type": "code",
   "execution_count": 52,
   "id": "33611864",
   "metadata": {},
   "outputs": [
    {
     "name": "stdout",
     "output_type": "stream",
     "text": [
      "[0.03712789 0.05059572 0.12760247 0.15672398 0.27478778 0.35260758\n",
      " 0.47218683 0.60100493 0.63432357 0.89635797]\n"
     ]
    }
   ],
   "source": [
    "random_vector = np.random.random(10)\n",
    "\n",
    "\n",
    "sorted_it = np.sort(random_vector)\n",
    "\n",
    "\n",
    "print(sorted_it)\n"
   ]
  },
  {
   "cell_type": "markdown",
   "id": "6386369f",
   "metadata": {},
   "source": [
    "Create random vector of size 10 and replace the maximum value by 0"
   ]
  },
  {
   "cell_type": "markdown",
   "id": "ab5c240c",
   "metadata": {},
   "source": [
    "hint: argmax"
   ]
  },
  {
   "cell_type": "code",
   "execution_count": 53,
   "id": "ed1f0bd3",
   "metadata": {},
   "outputs": [
    {
     "name": "stdout",
     "output_type": "stream",
     "text": [
      "[0.2961091  0.86136259 0.28560233 0.21323454 0.75733255 0.22859324\n",
      " 0.43649814 0.69881189 0.89328384 0.14706958]\n"
     ]
    }
   ],
   "source": [
    "vector = np.random.rand(10)\n",
    "\n",
    "print(vector)"
   ]
  },
  {
   "cell_type": "code",
   "execution_count": 54,
   "id": "f9fd6dbd",
   "metadata": {},
   "outputs": [
    {
     "name": "stdout",
     "output_type": "stream",
     "text": [
      "[0.2961091  0.86136259 0.28560233 0.21323454 0.75733255 0.22859324\n",
      " 0.43649814 0.69881189 0.         0.14706958]\n"
     ]
    }
   ],
   "source": [
    "max_value = np.argmax(vector)\n",
    "\n",
    "vector[max_value] = 0\n",
    "\n",
    "print (vector)"
   ]
  },
  {
   "cell_type": "markdown",
   "id": "9da98005",
   "metadata": {},
   "source": [
    "Subtract the mean of each row of a matrix "
   ]
  },
  {
   "cell_type": "markdown",
   "id": "62e8bb20",
   "metadata": {},
   "source": [
    "hint: mean(axis=,keepdims=)"
   ]
  },
  {
   "cell_type": "code",
   "execution_count": 55,
   "id": "5a012b8c",
   "metadata": {},
   "outputs": [
    {
     "name": "stdout",
     "output_type": "stream",
     "text": [
      "[[-1.  0.  1.]\n",
      " [-1.  0.  1.]\n",
      " [-1.  0.  1.]]\n"
     ]
    }
   ],
   "source": [
    "matrix = np.array([[1, 2, 3],\n",
    "                   [4, 5, 6],\n",
    "                   [7, 8, 9]])\n",
    "\n",
    "each_mean = np.mean(matrix, axis=1, keepdims=True)\n",
    "\n",
    "deducted_matrix = matrix - each_mean\n",
    "\n",
    "print(deducted_matrix)\n"
   ]
  },
  {
   "cell_type": "markdown",
   "id": "228b21b5",
   "metadata": {},
   "source": [
    "How to get the n largest values of an array"
   ]
  },
  {
   "cell_type": "markdown",
   "id": "52acdfa5",
   "metadata": {},
   "source": [
    "Z = np.arange(10000) np.random.shuffle(Z) n = 5 hint: np.argsort | np.argpartition"
   ]
  },
  {
   "cell_type": "code",
   "execution_count": 56,
   "id": "5b25caa1",
   "metadata": {},
   "outputs": [
    {
     "name": "stdout",
     "output_type": "stream",
     "text": [
      "[9995 9996 9997 9998 9999]\n"
     ]
    }
   ],
   "source": [
    "Z = np.arange(10000)\n",
    "np.random.shuffle(Z)\n",
    "n = 5\n",
    "\n",
    "largest_indices = np.argsort(Z)[-n:]\n",
    "\n",
    "largest_values = Z[largest_indices]\n",
    "\n",
    "print(largest_values)\n"
   ]
  },
  {
   "cell_type": "markdown",
   "id": "919bcd29",
   "metadata": {},
   "source": [
    "Create a random 5*3 matrix and replace items that are larger than 4 by their squares ( Example: 6 --> 36)"
   ]
  },
  {
   "cell_type": "markdown",
   "id": "06047275",
   "metadata": {},
   "source": [
    "hint: np.where"
   ]
  },
  {
   "cell_type": "code",
   "execution_count": 57,
   "id": "544838b6",
   "metadata": {},
   "outputs": [
    {
     "name": "stdout",
     "output_type": "stream",
     "text": [
      "Original Matrix:\n",
      "[[8 5 8]\n",
      " [1 6 0]\n",
      " [8 2 6]\n",
      " [0 1 3]\n",
      " [3 3 7]]\n",
      "\n",
      "Modified Matrix:\n",
      "[[64 25 64]\n",
      " [ 1 36  0]\n",
      " [64  2 36]\n",
      " [ 0  1  3]\n",
      " [ 3  3 49]]\n"
     ]
    }
   ],
   "source": [
    "import numpy as np\n",
    "\n",
    "matrix = np.random.randint(0, 10, size=(5, 3))\n",
    "\n",
    "print(\"Original Matrix:\")\n",
    "print(matrix)\n",
    "\n",
    "matrix = np.where(matrix > 4, matrix ** 2, matrix)\n",
    "\n",
    "print(\"\\nModified Matrix:\")\n",
    "print(matrix)\n"
   ]
  },
  {
   "cell_type": "code",
   "execution_count": 58,
   "id": "7e3ea638",
   "metadata": {},
   "outputs": [
    {
     "name": "stdout",
     "output_type": "stream",
     "text": [
      "Original Matrix:\n",
      "[[7 6 3]\n",
      " [5 2 8]\n",
      " [0 1 1]\n",
      " [0 4 5]\n",
      " [4 4 2]]\n",
      "Modified Matrix:\n",
      "[[49 36  3]\n",
      " [25  2 64]\n",
      " [ 0  1  1]\n",
      " [ 0  4 25]\n",
      " [ 4  4  2]]\n"
     ]
    }
   ],
   "source": [
    "import numpy as np\n",
    "\n",
    "matrix = np.random.randint(0, 10, size=(5, 3))\n",
    "\n",
    "print(\"Original Matrix:\")\n",
    "print(matrix)\n",
    "\n",
    "matrix[matrix > 4] = matrix[matrix > 4] ** 2\n",
    "\n",
    "print(\"Modified Matrix:\")\n",
    "print(matrix)\n"
   ]
  }
 ],
 "metadata": {
  "kernelspec": {
   "display_name": "Python 3 (ipykernel)",
   "language": "python",
   "name": "python3"
  },
  "language_info": {
   "codemirror_mode": {
    "name": "ipython",
    "version": 3
   },
   "file_extension": ".py",
   "mimetype": "text/x-python",
   "name": "python",
   "nbconvert_exporter": "python",
   "pygments_lexer": "ipython3",
   "version": "3.10.9"
  }
 },
 "nbformat": 4,
 "nbformat_minor": 5
}
