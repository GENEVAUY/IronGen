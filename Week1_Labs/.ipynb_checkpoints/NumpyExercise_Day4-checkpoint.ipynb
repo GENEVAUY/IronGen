{
 "cells": [
  {
   "cell_type": "markdown",
   "id": "754b78d0",
   "metadata": {},
   "source": [
    "# Numpy exercises"
   ]
  },
  {
   "cell_type": "markdown",
   "id": "f7c5a9e6",
   "metadata": {},
   "source": [
    "1. Import the numpy package under the name np"
   ]
  },
  {
   "cell_type": "markdown",
   "id": "bb90c8c0",
   "metadata": {},
   "source": [
    " hint: import … as"
   ]
  },
  {
   "cell_type": "code",
   "execution_count": 4,
   "id": "a01f7624",
   "metadata": {},
   "outputs": [],
   "source": [
    "import numpy as np"
   ]
  },
  {
   "cell_type": "markdown",
   "id": "dcda6b25",
   "metadata": {},
   "source": [
    "Create a null vector of size 10 "
   ]
  },
  {
   "cell_type": "markdown",
   "id": "384ca66c",
   "metadata": {},
   "source": [
    "hint: np.zeros"
   ]
  },
  {
   "cell_type": "code",
   "execution_count": 5,
   "id": "838fd7da",
   "metadata": {},
   "outputs": [
    {
     "name": "stdout",
     "output_type": "stream",
     "text": [
      "[0. 0. 0. 0. 0. 0. 0. 0. 0. 0.]\n"
     ]
    }
   ],
   "source": [
    "null_vector = np.zeros(10)\n",
    "\n",
    "print(null_vector)"
   ]
  },
  {
   "cell_type": "markdown",
   "id": "009873b7",
   "metadata": {},
   "source": [
    "Create a null vector of size 10 but the fifth value which is 1"
   ]
  },
  {
   "cell_type": "markdown",
   "id": "12aa572f",
   "metadata": {},
   "source": [
    "hint: array[4]"
   ]
  },
  {
   "cell_type": "code",
   "execution_count": 6,
   "id": "c9910338",
   "metadata": {},
   "outputs": [
    {
     "name": "stdout",
     "output_type": "stream",
     "text": [
      "[0. 0. 0. 0. 1. 0. 0. 0. 0. 0.]\n"
     ]
    }
   ],
   "source": [
    "null_vector = np.zeros(10)\n",
    "\n",
    "null_vector[4] = 1\n",
    "\n",
    "print(null_vector)"
   ]
  },
  {
   "cell_type": "markdown",
   "id": "586d5144",
   "metadata": {},
   "source": [
    "Create a vector with values ranging from 10 to 49"
   ]
  },
  {
   "cell_type": "markdown",
   "id": "8ffc67d1",
   "metadata": {},
   "source": [
    "hint: arange"
   ]
  },
  {
   "cell_type": "code",
   "execution_count": 7,
   "id": "525bc201",
   "metadata": {},
   "outputs": [
    {
     "name": "stdout",
     "output_type": "stream",
     "text": [
      "[10 11 12 13 14 15 16 17 18 19 20 21 22 23 24 25 26 27 28 29 30 31 32 33\n",
      " 34 35 36 37 38 39 40 41 42 43 44 45 46 47 48 49]\n"
     ]
    }
   ],
   "source": [
    "vector = np.arange(10, 50)\n",
    "\n",
    "print(vector)"
   ]
  },
  {
   "cell_type": "markdown",
   "id": "e2456966",
   "metadata": {},
   "source": [
    "Create a 3x3 matrix with values ranging from 0 to 8"
   ]
  },
  {
   "cell_type": "markdown",
   "id": "9546bd01",
   "metadata": {},
   "source": [
    "hint: reshape"
   ]
  },
  {
   "cell_type": "code",
   "execution_count": 8,
   "id": "1e41ab4b",
   "metadata": {},
   "outputs": [
    {
     "name": "stdout",
     "output_type": "stream",
     "text": [
      "[[0 1 2]\n",
      " [3 4 5]\n",
      " [6 7 8]]\n"
     ]
    }
   ],
   "source": [
    "matrix = np.arange(9).reshape(3, 3)\n",
    "\n",
    "print(matrix)\n"
   ]
  },
  {
   "cell_type": "markdown",
   "id": "98cf9f10",
   "metadata": {},
   "source": [
    "Find indices of non-zero elements from [1,2,0,0,4,0]"
   ]
  },
  {
   "cell_type": "markdown",
   "id": "8fead76d",
   "metadata": {},
   "source": [
    "hint: np.nonzero"
   ]
  },
  {
   "cell_type": "code",
   "execution_count": 9,
   "id": "a5b7ad44",
   "metadata": {},
   "outputs": [
    {
     "name": "stdout",
     "output_type": "stream",
     "text": [
      "(array([0, 1, 4]),)\n"
     ]
    }
   ],
   "source": [
    "elements = [1, 2, 0, 0, 4, 0]\n",
    "\n",
    "arr = np.array(elements)\n",
    "\n",
    "non_zero = np.nonzero(arr)\n",
    "\n",
    "print(non_zero)\n"
   ]
  },
  {
   "cell_type": "markdown",
   "id": "6f5a2ca3",
   "metadata": {},
   "source": [
    "Create a 3x3 identity matrix"
   ]
  },
  {
   "cell_type": "markdown",
   "id": "dda2a5c2",
   "metadata": {},
   "source": [
    "hint: np.eye"
   ]
  },
  {
   "cell_type": "code",
   "execution_count": 10,
   "id": "9e44c47c",
   "metadata": {},
   "outputs": [
    {
     "name": "stdout",
     "output_type": "stream",
     "text": [
      "[[1. 0. 0.]\n",
      " [0. 1. 0.]\n",
      " [0. 0. 1.]]\n"
     ]
    }
   ],
   "source": [
    "identity_matrix = np.eye(3)\n",
    "\n",
    "print(identity_matrix)\n"
   ]
  },
  {
   "cell_type": "markdown",
   "id": "e119844e",
   "metadata": {},
   "source": [
    "Create a 3x3x3 array with random values"
   ]
  },
  {
   "cell_type": "markdown",
   "id": "5f8d8320",
   "metadata": {},
   "source": [
    "hint: np.random.random"
   ]
  },
  {
   "cell_type": "code",
   "execution_count": 11,
   "id": "2dda3e31",
   "metadata": {},
   "outputs": [
    {
     "name": "stdout",
     "output_type": "stream",
     "text": [
      "[[[0.25412913 0.00556482 0.07094429]\n",
      "  [0.58513119 0.25650817 0.12492744]\n",
      "  [0.15535964 0.48574898 0.17514526]]\n",
      "\n",
      " [[0.08495545 0.21658466 0.36771558]\n",
      "  [0.00835443 0.40207324 0.46227371]\n",
      "  [0.33162467 0.65661757 0.92076019]]\n",
      "\n",
      " [[0.09989849 0.12899372 0.54124229]\n",
      "  [0.37926356 0.19638292 0.30151571]\n",
      "  [0.02965152 0.92503867 0.73513623]]]\n"
     ]
    }
   ],
   "source": [
    "array = np.random.random((3, 3, 3))\n",
    "\n",
    "print(array)"
   ]
  },
  {
   "cell_type": "markdown",
   "id": "44097b11",
   "metadata": {},
   "source": [
    "Create a 10x10 array with random values and find the minimum and maximum values"
   ]
  },
  {
   "cell_type": "markdown",
   "id": "0e26a545",
   "metadata": {},
   "source": [
    "hint: min, max"
   ]
  },
  {
   "cell_type": "code",
   "execution_count": 26,
   "id": "d5bf20bb",
   "metadata": {},
   "outputs": [
    {
     "name": "stdout",
     "output_type": "stream",
     "text": [
      "[[0.17016168 0.49935551 0.91335124 0.73606367 0.91196086 0.33102063\n",
      "  0.93375748 0.46801773 0.50951115 0.88632891]\n",
      " [0.73323077 0.18245467 0.1986079  0.97963598 0.47967627 0.55063662\n",
      "  0.35139366 0.21273489 0.72956858 0.8745509 ]\n",
      " [0.75271968 0.04283192 0.76760541 0.75897733 0.61480237 0.17248794\n",
      "  0.18546282 0.5172048  0.4003675  0.61937063]\n",
      " [0.94528248 0.57829082 0.73831665 0.06250631 0.60724139 0.72857176\n",
      "  0.58700377 0.30467313 0.91037009 0.36523658]\n",
      " [0.0885099  0.43506706 0.87760077 0.91000471 0.96541012 0.3184439\n",
      "  0.21797508 0.11258905 0.43229232 0.76600204]\n",
      " [0.69150903 0.9792868  0.23098083 0.78528745 0.44504933 0.48854532\n",
      "  0.0697896  0.97383393 0.46788961 0.39142398]\n",
      " [0.88946208 0.12398289 0.68765135 0.65230241 0.26319338 0.26066816\n",
      "  0.95482842 0.95825564 0.49024406 0.50409567]\n",
      " [0.01313574 0.63635859 0.06640555 0.13693384 0.09244871 0.51070389\n",
      "  0.12477339 0.5083472  0.19870384 0.44258002]\n",
      " [0.27044598 0.96722666 0.55513749 0.27694358 0.05470796 0.16925164\n",
      "  0.4291726  0.27790213 0.53017093 0.76218615]\n",
      " [0.00514457 0.5210279  0.97509966 0.97857262 0.40336297 0.83431914\n",
      "  0.35813881 0.97157584 0.76798788 0.92038203]]\n"
     ]
    }
   ],
   "source": [
    "array = np.random.random((10, 10))\n",
    "print(array)"
   ]
  },
  {
   "cell_type": "code",
   "execution_count": 13,
   "id": "fbfd0be4",
   "metadata": {},
   "outputs": [
    {
     "name": "stdout",
     "output_type": "stream",
     "text": [
      "Minimum value: 0.002568905604310223\n",
      "Maximum value: 0.998624923496019\n"
     ]
    }
   ],
   "source": [
    "min_value = np.min(array)\n",
    "max_value = np.max(array)\n",
    "\n",
    "print(\"Minimum value:\", min_value)\n",
    "print(\"Maximum value:\", max_value)"
   ]
  },
  {
   "cell_type": "markdown",
   "id": "dcfbeaf8",
   "metadata": {},
   "source": [
    " Create a random vector of size 30 and find the mean value"
   ]
  },
  {
   "cell_type": "markdown",
   "id": "073c1a70",
   "metadata": {},
   "source": [
    "hint: mean"
   ]
  },
  {
   "cell_type": "code",
   "execution_count": 14,
   "id": "413dd1c8",
   "metadata": {},
   "outputs": [
    {
     "name": "stdout",
     "output_type": "stream",
     "text": [
      "Random Vector:\n",
      "[0.57769466 0.63517703 0.36389886 0.07736722 0.72743946 0.53519808\n",
      " 0.81980715 0.75968281 0.32281079 0.06638002 0.75254122 0.19861229\n",
      " 0.13526878 0.65869828 0.74510588 0.183929   0.52610618 0.79785826\n",
      " 0.35227541 0.20619869 0.17212539 0.76083701 0.41461176 0.8769562\n",
      " 0.31829909 0.51367262 0.23678191 0.02285253 0.68571003 0.15241531]\n"
     ]
    }
   ],
   "source": [
    "vector = np.random.random(30)\n",
    "\n",
    "print(\"Random Vector:\")\n",
    "\n",
    "print(vector)"
   ]
  },
  {
   "cell_type": "code",
   "execution_count": 27,
   "id": "e1391a7d",
   "metadata": {},
   "outputs": [
    {
     "name": "stdout",
     "output_type": "stream",
     "text": [
      "0.39994459760486223\n"
     ]
    }
   ],
   "source": [
    "mean_value = np.mean(vector)\n",
    "\n",
    "print(mean_value)"
   ]
  },
  {
   "cell_type": "markdown",
   "id": "029a52f6",
   "metadata": {},
   "source": [
    "Create a 5x5 matrix with values 1,2,3,4 just below the diagonal "
   ]
  },
  {
   "cell_type": "markdown",
   "id": "10ca0403",
   "metadata": {},
   "source": [
    "hint: np.diag"
   ]
  },
  {
   "cell_type": "code",
   "execution_count": 16,
   "id": "36d79c21",
   "metadata": {},
   "outputs": [
    {
     "name": "stdout",
     "output_type": "stream",
     "text": [
      "[[0 0 0 0 0]\n",
      " [1 0 0 0 0]\n",
      " [0 2 0 0 0]\n",
      " [0 0 3 0 0]\n",
      " [0 0 0 4 0]]\n"
     ]
    }
   ],
   "source": [
    "values = [1, 2, 3, 4]\n",
    "matrix = np.diag(values, k=-1)\n",
    "\n",
    "print(matrix)"
   ]
  },
  {
   "cell_type": "markdown",
   "id": "c721b8fb",
   "metadata": {},
   "source": [
    "Normalize a 5x5 random matrix"
   ]
  },
  {
   "cell_type": "markdown",
   "id": "dca9281e",
   "metadata": {},
   "source": [
    "hint: (x -mean)/std"
   ]
  },
  {
   "cell_type": "code",
   "execution_count": 17,
   "id": "0b3e85ec",
   "metadata": {},
   "outputs": [
    {
     "name": "stdout",
     "output_type": "stream",
     "text": [
      "[[ 1.39694069 -1.25232252 -0.49549468 -1.21658547  0.6465342 ]\n",
      " [ 0.28638731  0.66602995  1.24566815  1.99835302  0.42805114]\n",
      " [-0.26894731  0.91819484  1.36857188 -1.27738307 -0.86856878]\n",
      " [-0.40796473 -1.43313918 -1.11519772 -1.58465467 -0.7001374 ]\n",
      " [-0.21365384  0.39454155  0.31266582  1.06400455  0.10810628]]\n"
     ]
    }
   ],
   "source": [
    "matrix = np.random.random((5, 5))\n",
    "\n",
    "mean = np.mean(matrix)\n",
    "std = np.std(matrix)\n",
    "\n",
    "normalized_matrix = (matrix - mean) / std\n",
    "\n",
    "print(normalized_matrix)\n"
   ]
  },
  {
   "cell_type": "markdown",
   "id": "e44b03bf",
   "metadata": {},
   "source": [
    "How to find common values between two arrays?"
   ]
  },
  {
   "cell_type": "markdown",
   "id": "8902b343",
   "metadata": {},
   "source": [
    "hint: np.intersect1d"
   ]
  },
  {
   "cell_type": "code",
   "execution_count": 18,
   "id": "fb0fe913",
   "metadata": {},
   "outputs": [
    {
     "name": "stdout",
     "output_type": "stream",
     "text": [
      "[2.04 2.11]\n"
     ]
    }
   ],
   "source": [
    "first_sample = np.array([02.11, 08.30, 02.04])\n",
    "second_sample = np.array([02.04, 02.11, 02.28])\n",
    "\n",
    "common_values = np.intersect1d(first_sample, second_sample)\n",
    "\n",
    "print(common_values)\n"
   ]
  },
  {
   "cell_type": "markdown",
   "id": "c5484e94",
   "metadata": {},
   "source": [
    "Create a random vector of size 10 and sort it"
   ]
  },
  {
   "cell_type": "markdown",
   "id": "620d9ce0",
   "metadata": {},
   "source": [
    "hint: sort"
   ]
  },
  {
   "cell_type": "code",
   "execution_count": 19,
   "id": "33611864",
   "metadata": {},
   "outputs": [
    {
     "name": "stdout",
     "output_type": "stream",
     "text": [
      "[0.04052593 0.05934764 0.14916113 0.1516688  0.2696676  0.29211637\n",
      " 0.52152238 0.73649521 0.8179293  0.97962699]\n"
     ]
    }
   ],
   "source": [
    "random_vector = np.random.random(10)\n",
    "\n",
    "\n",
    "sorted_it = np.sort(random_vector)\n",
    "\n",
    "\n",
    "print(sorted_it)\n"
   ]
  },
  {
   "cell_type": "markdown",
   "id": "6386369f",
   "metadata": {},
   "source": [
    "Create random vector of size 10 and replace the maximum value by 0"
   ]
  },
  {
   "cell_type": "markdown",
   "id": "ab5c240c",
   "metadata": {},
   "source": [
    "hint: argmax"
   ]
  },
  {
   "cell_type": "code",
   "execution_count": 20,
   "id": "ed1f0bd3",
   "metadata": {},
   "outputs": [
    {
     "name": "stdout",
     "output_type": "stream",
     "text": [
      "[0.13977547 0.9365466  0.78358537 0.60257499 0.96831417 0.87469348\n",
      " 0.12309368 0.22021433 0.01849572 0.30046633]\n"
     ]
    }
   ],
   "source": [
    "vector = np.random.rand(10)\n",
    "\n",
    "print(vector)"
   ]
  },
  {
   "cell_type": "code",
   "execution_count": 21,
   "id": "f9fd6dbd",
   "metadata": {},
   "outputs": [
    {
     "name": "stdout",
     "output_type": "stream",
     "text": [
      "[0.13977547 0.9365466  0.78358537 0.60257499 0.         0.87469348\n",
      " 0.12309368 0.22021433 0.01849572 0.30046633]\n"
     ]
    }
   ],
   "source": [
    "max_value = np.argmax(vector)\n",
    "\n",
    "vector[max_value] = 0\n",
    "\n",
    "print (vector)"
   ]
  },
  {
   "cell_type": "markdown",
   "id": "9da98005",
   "metadata": {},
   "source": [
    "Subtract the mean of each row of a matrix "
   ]
  },
  {
   "cell_type": "markdown",
   "id": "62e8bb20",
   "metadata": {},
   "source": [
    "hint: mean(axis=,keepdims=)"
   ]
  },
  {
   "cell_type": "code",
   "execution_count": 22,
   "id": "5a012b8c",
   "metadata": {},
   "outputs": [
    {
     "name": "stdout",
     "output_type": "stream",
     "text": [
      "[[-1.  0.  1.]\n",
      " [-1.  0.  1.]\n",
      " [-1.  0.  1.]]\n"
     ]
    }
   ],
   "source": [
    "matrix = np.array([[1, 2, 3],\n",
    "                   [4, 5, 6],\n",
    "                   [7, 8, 9]])\n",
    "\n",
    "each_mean = np.mean(matrix, axis=1, keepdims=True)\n",
    "\n",
    "deducted_matrix = matrix - each_mean\n",
    "\n",
    "print(deducted_matrix)\n"
   ]
  },
  {
   "cell_type": "markdown",
   "id": "228b21b5",
   "metadata": {},
   "source": [
    "How to get the n largest values of an array"
   ]
  },
  {
   "cell_type": "markdown",
   "id": "52acdfa5",
   "metadata": {},
   "source": [
    "Z = np.arange(10000) np.random.shuffle(Z) n = 5 hint: np.argsort | np.argpartition"
   ]
  },
  {
   "cell_type": "code",
   "execution_count": 23,
   "id": "5b25caa1",
   "metadata": {},
   "outputs": [
    {
     "name": "stdout",
     "output_type": "stream",
     "text": [
      "[9995 9996 9997 9998 9999]\n"
     ]
    }
   ],
   "source": [
    "Z = np.arange(10000)\n",
    "np.random.shuffle(Z)\n",
    "n = 5\n",
    "\n",
    "largest_indices = np.argsort(Z)[-n:]\n",
    "\n",
    "largest_values = Z[largest_indices]\n",
    "\n",
    "print(largest_values)\n"
   ]
  },
  {
   "cell_type": "markdown",
   "id": "919bcd29",
   "metadata": {},
   "source": [
    "Create a random 5*3 matrix and replace items that are larger than 4 by their squares ( Example: 6 --> 36)"
   ]
  },
  {
   "cell_type": "markdown",
   "id": "06047275",
   "metadata": {},
   "source": [
    "hint: np.where"
   ]
  },
  {
   "cell_type": "code",
   "execution_count": 24,
   "id": "544838b6",
   "metadata": {},
   "outputs": [
    {
     "name": "stdout",
     "output_type": "stream",
     "text": [
      "Original Matrix:\n",
      "[[1 2 9]\n",
      " [7 9 0]\n",
      " [6 6 0]\n",
      " [4 3 4]\n",
      " [0 5 6]]\n",
      "\n",
      "Modified Matrix:\n",
      "[[ 1  2 81]\n",
      " [49 81  0]\n",
      " [36 36  0]\n",
      " [ 4  3  4]\n",
      " [ 0 25 36]]\n"
     ]
    }
   ],
   "source": [
    "import numpy as np\n",
    "\n",
    "matrix = np.random.randint(0, 10, size=(5, 3))\n",
    "\n",
    "print(\"Original Matrix:\")\n",
    "print(matrix)\n",
    "\n",
    "matrix = np.where(matrix > 4, matrix ** 2, matrix)\n",
    "\n",
    "print(\"\\nModified Matrix:\")\n",
    "print(matrix)\n"
   ]
  },
  {
   "cell_type": "code",
   "execution_count": 25,
   "id": "7e3ea638",
   "metadata": {},
   "outputs": [
    {
     "name": "stdout",
     "output_type": "stream",
     "text": [
      "Original Matrix:\n",
      "[[0 5 8]\n",
      " [7 2 5]\n",
      " [6 3 9]\n",
      " [6 5 9]\n",
      " [4 7 4]]\n",
      "Modified Matrix:\n",
      "[[ 0 25 64]\n",
      " [49  2 25]\n",
      " [36  3 81]\n",
      " [36 25 81]\n",
      " [ 4 49  4]]\n"
     ]
    }
   ],
   "source": [
    "import numpy as np\n",
    "\n",
    "matrix = np.random.randint(0, 10, size=(5, 3))\n",
    "\n",
    "print(\"Original Matrix:\")\n",
    "print(matrix)\n",
    "\n",
    "matrix[matrix > 4] = matrix[matrix > 4] ** 2\n",
    "\n",
    "print(\"Modified Matrix:\")\n",
    "print(matrix)\n"
   ]
  }
 ],
 "metadata": {
  "kernelspec": {
   "display_name": "Python 3 (ipykernel)",
   "language": "python",
   "name": "python3"
  },
  "language_info": {
   "codemirror_mode": {
    "name": "ipython",
    "version": 3
   },
   "file_extension": ".py",
   "mimetype": "text/x-python",
   "name": "python",
   "nbconvert_exporter": "python",
   "pygments_lexer": "ipython3",
   "version": "3.10.9"
  }
 },
 "nbformat": 4,
 "nbformat_minor": 5
}
