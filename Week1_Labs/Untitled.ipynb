{
 "cells": [
  {
   "cell_type": "markdown",
   "id": "8fdf36e4",
   "metadata": {},
   "source": [
    "Lambda anonymous function"
   ]
  },
  {
   "cell_type": "markdown",
   "id": "e55a0b1b",
   "metadata": {},
   "source": [
    "iterable - list, tuple.series.."
   ]
  },
  {
   "cell_type": "code",
   "execution_count": 3,
   "id": "c0fdc8dd",
   "metadata": {},
   "outputs": [],
   "source": [
    "my_list =  [1,2,3]"
   ]
  },
  {
   "cell_type": "code",
   "execution_count": 4,
   "id": "4159fd43",
   "metadata": {},
   "outputs": [
    {
     "data": {
      "text/plain": [
       "[1, 4, 9]"
      ]
     },
     "execution_count": 4,
     "metadata": {},
     "output_type": "execute_result"
    }
   ],
   "source": [
    "list(map(lambda x:x**2, my_list))"
   ]
  },
  {
   "cell_type": "markdown",
   "id": "018ee9e2",
   "metadata": {},
   "source": [
    "#map (function, iterable)"
   ]
  },
  {
   "cell_type": "code",
   "execution_count": 8,
   "id": "f06b8b7e",
   "metadata": {},
   "outputs": [
    {
     "data": {
      "text/plain": [
       "<map at 0x10619d630>"
      ]
     },
     "execution_count": 8,
     "metadata": {},
     "output_type": "execute_result"
    }
   ],
   "source": [
    "map(lambda x:x**2, my_list)"
   ]
  },
  {
   "cell_type": "markdown",
   "id": "4721b235",
   "metadata": {},
   "source": [
    "#the above result shows that the function result is stored at 0x10619d630."
   ]
  },
  {
   "cell_type": "code",
   "execution_count": 9,
   "id": "b1d9493c",
   "metadata": {},
   "outputs": [],
   "source": [
    "#Therefore, lambda needs to be turned into a list to unpack that answer."
   ]
  },
  {
   "cell_type": "markdown",
   "id": "71acb5fe",
   "metadata": {},
   "source": [
    "ANOTHER WAY:"
   ]
  },
  {
   "cell_type": "code",
   "execution_count": 11,
   "id": "8fee390a",
   "metadata": {},
   "outputs": [],
   "source": [
    "import numpy as np"
   ]
  },
  {
   "cell_type": "code",
   "execution_count": 12,
   "id": "5c18e360",
   "metadata": {},
   "outputs": [],
   "source": [
    "def func(x):\n",
    "    return x**2"
   ]
  },
  {
   "cell_type": "code",
   "execution_count": 15,
   "id": "23439339",
   "metadata": {},
   "outputs": [
    {
     "data": {
      "text/plain": [
       "[1, 4, 9]"
      ]
     },
     "execution_count": 15,
     "metadata": {},
     "output_type": "execute_result"
    }
   ],
   "source": [
    "lista = [1,2,3]\n",
    "list(map(func, lista))"
   ]
  },
  {
   "cell_type": "code",
   "execution_count": 18,
   "id": "e6d81f44",
   "metadata": {},
   "outputs": [
    {
     "data": {
      "text/plain": [
       "<zip at 0x106306900>"
      ]
     },
     "execution_count": 18,
     "metadata": {},
     "output_type": "execute_result"
    }
   ],
   "source": [
    "listb = ['hi','oh','bye']\n",
    "zip(listb,lista)"
   ]
  },
  {
   "cell_type": "code",
   "execution_count": 19,
   "id": "49213557",
   "metadata": {},
   "outputs": [
    {
     "data": {
      "text/plain": [
       "{'hi': 1, 'oh': 2, 'bye': 3}"
      ]
     },
     "execution_count": 19,
     "metadata": {},
     "output_type": "execute_result"
    }
   ],
   "source": [
    "listb = ['hi','oh','bye']\n",
    "dict(zip(listb,lista))"
   ]
  },
  {
   "cell_type": "code",
   "execution_count": null,
   "id": "fe57c3dd",
   "metadata": {},
   "outputs": [],
   "source": []
  }
 ],
 "metadata": {
  "kernelspec": {
   "display_name": "Python 3 (ipykernel)",
   "language": "python",
   "name": "python3"
  },
  "language_info": {
   "codemirror_mode": {
    "name": "ipython",
    "version": 3
   },
   "file_extension": ".py",
   "mimetype": "text/x-python",
   "name": "python",
   "nbconvert_exporter": "python",
   "pygments_lexer": "ipython3",
   "version": "3.10.9"
  }
 },
 "nbformat": 4,
 "nbformat_minor": 5
}
