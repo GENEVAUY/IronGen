{
 "cells": [
  {
   "cell_type": "markdown",
   "metadata": {},
   "source": [
    "# Lab | Data Structures "
   ]
  },
  {
   "cell_type": "markdown",
   "metadata": {},
   "source": [
    "## Exercise 1: Working with Lists"
   ]
  },
  {
   "cell_type": "markdown",
   "metadata": {},
   "source": [
    "Imagine you are building a program for a teacher who wants to track the progress of their students throughout the semester. The teacher wants to input the grades of each student one by one, and get a summary of their performance. There are in total 5 students. You are tasked with building the program that will allow the teacher to do this easily.\n",
    "\n",
    "The program will prompt the teacher to enter the grades of each student. Once the teacher has entered all the grades, the program will calculate the total sum of the grades and display it on the screen. Then, the program will create a new list by selecting only the grades of the first, third, and fifth students entered by the teacher, and sort them in ascending order.\n",
    "\n",
    "Finally, the program will print out the new list, along with its length and the number of occurrences of the score 5 in the list. This will give the teacher a good overview of the performance of the selected students, and help them identify any potential issues early on."
   ]
  },
  {
   "cell_type": "markdown",
   "metadata": {},
   "source": [
    "*Hint:*\n",
    "- You can use the input() function to ask the user to enter their information.\n",
    "- Look for list methods to perform the tasks. \n",
    "- Remember, it is possible to get a part of the sequence using:\n",
    "\n",
    "    ```python\n",
    "    sequence[x:y:z]\n",
    "    ```\n",
    "    where x, y, z are integers.\n",
    "\n",
    "    The above returns a new sequence with the following characteristics:\n",
    "\n",
    "    - A sequence with the same type as the original (a slice of a list is a list, a slice of a tuple is a tuple, and a slice of a string is a string).\n",
    "    - A sequence with elements from `sequence [x]` to `sequence [y-1]` (does not include a sequence [y]). By skipping `z` elements each time, it can be omitted if ` z = 1`.\n"
   ]
  },
  {
   "cell_type": "markdown",
   "metadata": {},
   "source": [
    "*Recommended External Resources:*\n",
    "- *[Python Lists](https://www.w3schools.com/python/python_lists.asp)*\n",
    "- *[Python List Methods](https://www.w3schools.com/python/python_ref_list.asp)*\n",
    "- *[Python Built-in Functions](https://docs.python.org/3/library/functions.html)*\n"
   ]
  },
  {
   "cell_type": "code",
   "execution_count": 1,
   "metadata": {},
   "outputs": [
    {
     "name": "stdout",
     "output_type": "stream",
     "text": [
      "Enter student 1's grade: 88\n",
      "88\n"
     ]
    }
   ],
   "source": [
    "student_1 = input(\"Enter student 1's grade: \")\n",
    "print (student_1)"
   ]
  },
  {
   "cell_type": "code",
   "execution_count": 2,
   "metadata": {},
   "outputs": [
    {
     "name": "stdout",
     "output_type": "stream",
     "text": [
      "Enter student 2's grade: 95\n",
      "95\n"
     ]
    }
   ],
   "source": [
    "student_2 = input (\"Enter student 2's grade: \")\n",
    "print (student_2)"
   ]
  },
  {
   "cell_type": "code",
   "execution_count": 3,
   "metadata": {},
   "outputs": [
    {
     "name": "stdout",
     "output_type": "stream",
     "text": [
      "Enter student 3's grade: 92\n",
      "92\n"
     ]
    }
   ],
   "source": [
    "student_3 = input (\"Enter student 3's grade: \")\n",
    "print (student_3)"
   ]
  },
  {
   "cell_type": "code",
   "execution_count": 4,
   "metadata": {},
   "outputs": [
    {
     "name": "stdout",
     "output_type": "stream",
     "text": [
      "Enter student 4's grade: 95\n",
      "95\n"
     ]
    }
   ],
   "source": [
    "student_4 = input (\"Enter student 4's grade: \")\n",
    "print (student_4)"
   ]
  },
  {
   "cell_type": "code",
   "execution_count": 5,
   "metadata": {},
   "outputs": [
    {
     "name": "stdout",
     "output_type": "stream",
     "text": [
      "Enter student 5's grade: 80\n",
      "80\n"
     ]
    }
   ],
   "source": [
    "student_5 = input (\"Enter student 5's grade: \")\n",
    "print (student_5)"
   ]
  },
  {
   "cell_type": "code",
   "execution_count": 19,
   "metadata": {},
   "outputs": [
    {
     "name": "stdout",
     "output_type": "stream",
     "text": [
      "450\n"
     ]
    }
   ],
   "source": [
    "student_1 = 88\n",
    "student_2 = 95\n",
    "student_3 = 92\n",
    "student_4 = 95\n",
    "student_5 = 80\n",
    "\n",
    "total = student_1 + student_2 + student_3 + student_4 + student_5\n",
    "print (total)"
   ]
  },
  {
   "cell_type": "code",
   "execution_count": 21,
   "metadata": {},
   "outputs": [
    {
     "name": "stdout",
     "output_type": "stream",
     "text": [
      "[80, 88, 92, 95, 95]\n"
     ]
    }
   ],
   "source": [
    "student_grades= [88,95,92,95,80]\n",
    "student_grades.sort()\n",
    "print(student_grades)"
   ]
  },
  {
   "cell_type": "code",
   "execution_count": 23,
   "metadata": {
    "scrolled": true
   },
   "outputs": [
    {
     "data": {
      "text/plain": [
       "[80, 92, 95]"
      ]
     },
     "execution_count": 23,
     "metadata": {},
     "output_type": "execute_result"
    }
   ],
   "source": [
    "student_grades [::2]"
   ]
  },
  {
   "cell_type": "markdown",
   "metadata": {},
   "source": [
    "## Exercise 2: Tuples"
   ]
  },
  {
   "cell_type": "markdown",
   "metadata": {},
   "source": [
    "Imagine you're running a fruit stand and want to keep track of your inventory. Write a Python program that does the following:\n",
    "Initializes a tuple with 5 different types of fruit.\n",
    "Outputs the first and last elements of the tuple, so you can see the full range of fruits the store offers.\n",
    "Replaces the second element of the tuple with a new fruit that the store has recently received, and prints the updated tuple so you can see the changes.\n",
    "Concatenates a new tuple containing 2 additional fruits to the original tuple, so you can add them to the store inventory, and prints the resulting tuple to see the updated inventory.\n",
    "Splits the resulting tuple into 2 tuples of 3 elements each (the first tuple contains the first 3 elements, and the second tuple contains the last 3 elements), so you can organize the inventory more effectively.\n",
    "Combines the 2 tuples from the previous step with the original tuple into a new tuple, and prints the resulting tuple and its length, so you can see the final inventory after all the changes."
   ]
  },
  {
   "cell_type": "markdown",
   "metadata": {},
   "source": [
    "*Recommended External Resources: [Python Tuples Examples and Methods](https://www.w3schools.com/python/python_tuples.asp)*\n",
    "\n"
   ]
  },
  {
   "cell_type": "code",
   "execution_count": 38,
   "metadata": {},
   "outputs": [
    {
     "name": "stdout",
     "output_type": "stream",
     "text": [
      "('stawberry', 'mango', 'kiwi', 'lychee', 'raspberry')\n"
     ]
    }
   ],
   "source": [
    "fruits = (\"stawberry\",\"mango\", \"kiwi\", \"lychee\", \"raspberry\")\n",
    "print (fruits)\n"
   ]
  },
  {
   "cell_type": "code",
   "execution_count": 39,
   "metadata": {},
   "outputs": [
    {
     "name": "stdout",
     "output_type": "stream",
     "text": [
      "('stawberry', 'mango', 'kiwi', 'lychee', 'raspberry')\n"
     ]
    }
   ],
   "source": [
    "fruits_tuple = tuple (fruits)\n",
    "print (fruits_tuple)"
   ]
  },
  {
   "cell_type": "code",
   "execution_count": 40,
   "metadata": {},
   "outputs": [
    {
     "data": {
      "text/plain": [
       "'stawberry'"
      ]
     },
     "execution_count": 40,
     "metadata": {},
     "output_type": "execute_result"
    }
   ],
   "source": [
    "fruits_tuple [0]"
   ]
  },
  {
   "cell_type": "code",
   "execution_count": 42,
   "metadata": {},
   "outputs": [
    {
     "data": {
      "text/plain": [
       "'raspberry'"
      ]
     },
     "execution_count": 42,
     "metadata": {},
     "output_type": "execute_result"
    }
   ],
   "source": [
    "fruits_tuple [-1]"
   ]
  },
  {
   "cell_type": "code",
   "execution_count": 43,
   "metadata": {},
   "outputs": [
    {
     "ename": "TypeError",
     "evalue": "'tuple' object does not support item assignment",
     "output_type": "error",
     "traceback": [
      "\u001b[0;31m---------------------------------------------------------------------------\u001b[0m",
      "\u001b[0;31mTypeError\u001b[0m                                 Traceback (most recent call last)",
      "Cell \u001b[0;32mIn[43], line 1\u001b[0m\n\u001b[0;32m----> 1\u001b[0m fruits_tuple [\u001b[38;5;241m1\u001b[39m] \u001b[38;5;241m=\u001b[39m \u001b[38;5;124m\"\u001b[39m\u001b[38;5;124mpineapple\u001b[39m\u001b[38;5;124m\"\u001b[39m\n",
      "\u001b[0;31mTypeError\u001b[0m: 'tuple' object does not support item assignment"
     ]
    }
   ],
   "source": [
    "fruits_tuple [1] = \"pineapple\""
   ]
  },
  {
   "cell_type": "code",
   "execution_count": 44,
   "metadata": {},
   "outputs": [
    {
     "name": "stdout",
     "output_type": "stream",
     "text": [
      "('stawberry', 'mango', 'kiwi', 'lychee', 'raspberry')\n"
     ]
    }
   ],
   "source": [
    "print (fruits_tuple)"
   ]
  },
  {
   "cell_type": "code",
   "execution_count": 47,
   "metadata": {},
   "outputs": [
    {
     "name": "stdout",
     "output_type": "stream",
     "text": [
      "('stawberry', 'mango', 'kiwi')\n",
      "('kiwi', 'lychee', 'raspberry')\n"
     ]
    }
   ],
   "source": [
    "tuple_two = fruits_tuple [:3]\n",
    "tuple_three = fruits_tuple [2:5]\n",
    "\n",
    "print(tuple_two)\n",
    "print (tuple_three)"
   ]
  },
  {
   "cell_type": "code",
   "execution_count": 50,
   "metadata": {},
   "outputs": [
    {
     "name": "stdout",
     "output_type": "stream",
     "text": [
      "('stawberry', 'mango', 'kiwi', 'lychee', 'raspberry', 'stawberry', 'mango', 'kiwi', 'kiwi', 'lychee', 'raspberry')\n"
     ]
    }
   ],
   "source": [
    "combined_fruits_tuple = fruits_tuple + tuple_two + tuple_three\n",
    "print (combined_fruits_tuple)"
   ]
  },
  {
   "cell_type": "markdown",
   "metadata": {},
   "source": [
    "## Exercise 3: Sets"
   ]
  },
  {
   "cell_type": "markdown",
   "metadata": {},
   "source": [
    "Imagine you are a data analyst working for a literature museum. Your manager has given you two poems to analyze, and she wants you to write a Python program to extract useful information from them.\n",
    "\n",
    "Your program should:\n",
    "\n",
    "- Create two sets, one for each poem, containing all unique words in both poems (ignoring case and punctuation).\n",
    "- Print the number of unique words in each set.\n",
    "- Identify and print the unique words present in the first poem but not in the second one.\n",
    "- Identify and print the unique words present in the second poem but not in the first one.\n",
    "- Identify and print the unique words present in both poems and print it in alphabetical order."
   ]
  },
  {
   "cell_type": "markdown",
   "metadata": {},
   "source": [
    "*Recommended External Resources:*\n",
    "- *[Python Sets](https://www.w3schools.com/python/python_sets.asp)* \n",
    "- *[Python Set Methods](https://www.w3schools.com/python/python_ref_set.asp)*\n",
    "- *[Python String Methods](https://www.w3schools.com/python/python_ref_string.asp)*\n"
   ]
  },
  {
   "cell_type": "code",
   "execution_count": 51,
   "metadata": {},
   "outputs": [],
   "source": [
    "poem = \"\"\"Some say the world will end in fire,\n",
    "Some say in ice.\n",
    "From what I’ve tasted of desire\n",
    "I hold with those who favor fire.\n",
    "But if it had to perish twice,\n",
    "I think I know enough of hate\n",
    "To say that for destruction ice\n",
    "Is also great\n",
    "And would suffice.\"\"\"\n",
    "\n",
    "new_poem = \"\"\"Some say life is but a dream,\n",
    "Some say it's a test.\n",
    "From what I've seen and what I deem,\n",
    "I side with those who see it as a quest.\n",
    "\n",
    "But if it had to end today,\n",
    "I think I know enough of love,\n",
    "To say that though it fades away,\n",
    "It's still what we are made of.\"\"\""
   ]
  },
  {
   "cell_type": "code",
   "execution_count": 52,
   "metadata": {},
   "outputs": [
    {
     "name": "stdout",
     "output_type": "stream",
     "text": [
      "{'from', 'and', 'enough', 'would', 'to', 'twice,', 'destruction', 'think', 'tasted', 'favor', 'world', 'it', 'perish', 'that', 'those', 'great', 'but', 'say', 'i', 'hold', 'end', 'know', 'i’ve', 'fire,', 'hate', 'had', 'with', 'who', 'for', 'if', 'also', 'desire', 'ice.', 'what', 'in', 'will', 'the', 'is', 'of', 'suffice.', 'ice', 'some', 'fire.'}\n"
     ]
    }
   ],
   "source": [
    "words_1 = poem.lower().split()\n",
    "unique_words_1 = set (words_1)\n",
    "print (unique_words_1)"
   ]
  },
  {
   "cell_type": "code",
   "execution_count": 53,
   "metadata": {},
   "outputs": [
    {
     "name": "stdout",
     "output_type": "stream",
     "text": [
      "{'from', 'and', 'seen', 'deem,', 'enough', 'see', \"i've\", 'to', 'today,', 'as', 'think', 'love,', 'that', 'it', 'are', 'those', 'away,', 'but', 'say', 'i', 'know', 'end', 'test.', 'life', 'a', \"it's\", 'had', 'dream,', 'still', 'with', 'we', 'who', 'if', 'though', 'what', 'side', 'fades', 'quest.', 'is', 'of', 'of.', 'made', 'some'}\n"
     ]
    }
   ],
   "source": [
    "words_2 = new_poem.lower().split()\n",
    "unique_words_2 = set (words_2)\n",
    "print (unique_words_2)"
   ]
  },
  {
   "cell_type": "code",
   "execution_count": 55,
   "metadata": {},
   "outputs": [
    {
     "data": {
      "text/plain": [
       "43"
      ]
     },
     "execution_count": 55,
     "metadata": {},
     "output_type": "execute_result"
    }
   ],
   "source": [
    "len(set(words_1))"
   ]
  },
  {
   "cell_type": "code",
   "execution_count": 56,
   "metadata": {},
   "outputs": [
    {
     "data": {
      "text/plain": [
       "43"
      ]
     },
     "execution_count": 56,
     "metadata": {},
     "output_type": "execute_result"
    }
   ],
   "source": [
    "len(set(words_2))"
   ]
  },
  {
   "cell_type": "code",
   "execution_count": 61,
   "metadata": {
    "scrolled": true
   },
   "outputs": [],
   "source": [
    "words_1 = {'from', 'and', 'enough', 'would', 'to', 'twice,', 'destruction', 'think', 'tasted', 'favor', 'world', 'it', 'perish', 'that', 'those', 'great', 'but', 'say', 'i', 'hold', 'end', 'know', 'i’ve', 'fire,', 'hate', 'had', 'with', 'who', 'for', 'if', 'also', 'desire', 'ice.', 'what', 'in', 'will', 'the', 'is', 'of', 'suffice.', 'ice', 'some', 'fire.'}\n",
    "words_2 = {'from', 'and', 'seen', 'deem,', 'enough', 'see', \"i've\", 'to', 'today,', 'as', 'think', 'love,', 'that', 'it', 'are', 'those', 'away,', 'but', 'say', 'i', 'know', 'end', 'test.', 'life', 'a', \"it's\", 'had', 'dream,', 'still', 'with', 'we', 'who', 'if', 'though', 'what', 'side', 'fades', 'quest.', 'is', 'of', 'of.', 'made', 'some'}"
   ]
  },
  {
   "cell_type": "code",
   "execution_count": 69,
   "metadata": {},
   "outputs": [
    {
     "name": "stdout",
     "output_type": "stream",
     "text": [
      "{'would', 'twice,', 'destruction', 'tasted', 'favor', 'perish', 'world', 'great', 'hold', 'i’ve', 'fire,', 'hate', 'for', 'also', 'ice.', 'desire', 'in', 'will', 'the', 'suffice.', 'ice', 'fire.'}\n"
     ]
    }
   ],
   "source": [
    "difference_1 = words_1 - words_2\n",
    "print (difference_1)"
   ]
  },
  {
   "cell_type": "code",
   "execution_count": 70,
   "metadata": {},
   "outputs": [
    {
     "name": "stdout",
     "output_type": "stream",
     "text": [
      "{'seen', 'deem,', 'see', \"i've\", 'today,', 'as', 'love,', 'are', 'away,', 'test.', 'life', 'a', \"it's\", 'still', 'dream,', 'we', 'though', 'side', 'fades', 'quest.', 'of.', 'made'}\n"
     ]
    }
   ],
   "source": [
    "difference_2 = words_2 - words_1\n",
    "print (difference_2)"
   ]
  },
  {
   "cell_type": "code",
   "execution_count": 73,
   "metadata": {},
   "outputs": [
    {
     "data": {
      "text/plain": [
       "{'a',\n",
       " 'also',\n",
       " 'are',\n",
       " 'as',\n",
       " 'away,',\n",
       " 'deem,',\n",
       " 'desire',\n",
       " 'destruction',\n",
       " 'dream,',\n",
       " 'fades',\n",
       " 'favor',\n",
       " 'fire,',\n",
       " 'fire.',\n",
       " 'for',\n",
       " 'great',\n",
       " 'hate',\n",
       " 'hold',\n",
       " \"i've\",\n",
       " 'ice',\n",
       " 'ice.',\n",
       " 'in',\n",
       " \"it's\",\n",
       " 'i’ve',\n",
       " 'life',\n",
       " 'love,',\n",
       " 'made',\n",
       " 'of.',\n",
       " 'perish',\n",
       " 'quest.',\n",
       " 'see',\n",
       " 'seen',\n",
       " 'side',\n",
       " 'still',\n",
       " 'suffice.',\n",
       " 'tasted',\n",
       " 'test.',\n",
       " 'the',\n",
       " 'though',\n",
       " 'today,',\n",
       " 'twice,',\n",
       " 'we',\n",
       " 'will',\n",
       " 'world',\n",
       " 'would'}"
      ]
     },
     "execution_count": 73,
     "metadata": {},
     "output_type": "execute_result"
    }
   ],
   "source": [
    "total_difference = difference_1.union (difference_2)\n",
    "total_difference"
   ]
  },
  {
   "cell_type": "markdown",
   "metadata": {},
   "source": [
    "## Exercise 4: Dictionaries"
   ]
  },
  {
   "cell_type": "markdown",
   "metadata": {},
   "source": [
    "Consider the following dictionary of students with their scores in different subjects. One of the students, Bob, has complained about his score in Philosophy and, after reviewing it, the teacher has decided to update his score to 100. Write a Python program that updates Bob's score in Philosophy to 100 in the dictionary."
   ]
  },
  {
   "cell_type": "markdown",
   "metadata": {},
   "source": [
    "*Recommended External Resources: [Python Dictionary Examples and Methods](https://www.w3schools.com/python/python_dictionaries.asp)*\n"
   ]
  },
  {
   "cell_type": "code",
   "execution_count": 78,
   "metadata": {},
   "outputs": [],
   "source": [
    "grades = {'Alice': {'Physics': 75, 'Math': 85, 'Chemistry': 60, 'Philosophy': 90}, 'Bob': {'Physics': 75, 'Math': 85, 'Chemistry': 60, 'Philosophy': 90}}"
   ]
  },
  {
   "cell_type": "code",
   "execution_count": 79,
   "metadata": {},
   "outputs": [
    {
     "name": "stdout",
     "output_type": "stream",
     "text": [
      "{'Bob': {'Philosophy': 100}}\n"
     ]
    }
   ],
   "source": [
    "grades = {'Bob':{'Philosophy':90}}\n",
    "\n",
    "grades['Bob']['Philosophy'] = 100\n",
    "print (grades)"
   ]
  },
  {
   "cell_type": "markdown",
   "metadata": {},
   "source": [
    "## Bonus"
   ]
  },
  {
   "cell_type": "markdown",
   "metadata": {},
   "source": [
    "1. Below are the two lists. Write a Python program to convert them into a dictionary in a way that item from list1 is the key and item from list2 is the value."
   ]
  },
  {
   "cell_type": "markdown",
   "metadata": {},
   "source": [
    "*Hint: Use the zip() function. This function takes two or more iterables (like list, dict, string), aggregates them in a tuple, and returns it. Afterwards, you can use a function that turns a tuple into a dictionary.*"
   ]
  },
  {
   "cell_type": "markdown",
   "metadata": {},
   "source": [
    "*Recommended External Resources: [Python Zip Function](https://www.w3schools.com/python/ref_func_zip.asp)*\n"
   ]
  },
  {
   "cell_type": "code",
   "execution_count": null,
   "metadata": {},
   "outputs": [],
   "source": [
    "keys = ['Physics', 'Math', 'Chemistry', 'Philosophy']\n",
    "values = [75, 85, 60,90]\n",
    "\n",
    "# Your code here"
   ]
  },
  {
   "cell_type": "markdown",
   "metadata": {},
   "source": [
    "2. Get the subject with the minimum score from the previous dictionary."
   ]
  },
  {
   "cell_type": "markdown",
   "metadata": {},
   "source": [
    "*Hint: Use the built-in function min(). Read about the parameter key.*"
   ]
  },
  {
   "cell_type": "markdown",
   "metadata": {},
   "source": [
    "\n",
    "*Recommended External Resources:*\n",
    "- *[Python Min Function Official Documentation](https://docs.python.org/3.8/library/functions.html#min)*\n",
    "- *[How to use key function in max and min in Python](https://medium.com/analytics-vidhya/how-to-use-key-function-in-max-and-min-in-python-1fdbd661c59c)*"
   ]
  },
  {
   "cell_type": "code",
   "execution_count": null,
   "metadata": {},
   "outputs": [],
   "source": [
    "# Your code here"
   ]
  }
 ],
 "metadata": {
  "kernelspec": {
   "display_name": "Python 3 (ipykernel)",
   "language": "python",
   "name": "python3"
  },
  "language_info": {
   "codemirror_mode": {
    "name": "ipython",
    "version": 3
   },
   "file_extension": ".py",
   "mimetype": "text/x-python",
   "name": "python",
   "nbconvert_exporter": "python",
   "pygments_lexer": "ipython3",
   "version": "3.10.9"
  }
 },
 "nbformat": 4,
 "nbformat_minor": 4
}
