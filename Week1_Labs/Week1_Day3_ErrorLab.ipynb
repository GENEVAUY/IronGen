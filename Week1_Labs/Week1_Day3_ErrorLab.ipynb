{
 "cells": [
  {
   "cell_type": "markdown",
   "id": "25d7736c-ba17-4aff-b6bb-66eba20fbf4e",
   "metadata": {},
   "source": [
    "# Lab | Error Handling"
   ]
  },
  {
   "cell_type": "markdown",
   "id": "6f8e446f-16b4-4e21-92e7-9d3d1eb551b6",
   "metadata": {},
   "source": [
    "Objective: Practice how to identify, handle and recover from potential errors in Python code using try-except blocks."
   ]
  },
  {
   "cell_type": "markdown",
   "id": "e253e768-aed8-4791-a800-87add1204afa",
   "metadata": {},
   "source": [
    "## Challenge \n",
    "\n",
    "Paste here your lab *functions* solutions. Apply error handling techniques to each function using try-except blocks. "
   ]
  },
  {
   "cell_type": "markdown",
   "id": "9180ff86-c3fe-4152-a609-081a287fa1af",
   "metadata": {},
   "source": [
    "The try-except block in Python is designed to handle exceptions and provide a fallback mechanism when code encounters errors. By enclosing the code that could potentially throw errors in a try block, followed by specific or general exception handling in the except block, we can gracefully recover from errors and continue program execution.\n",
    "\n",
    "However, there may be cases where an input may not produce an immediate error, but still needs to be addressed. In such situations, it can be useful to explicitly raise an error using the \"raise\" keyword, either to draw attention to the issue or handle it elsewhere in the program.\n",
    "\n",
    "Modify the code to handle possible errors in Python, it is recommended to use `try-except-else-finally` blocks, incorporate the `raise` keyword where necessary, and print meaningful error messages to alert users of any issues that may occur during program execution.\n",
    "\n"
   ]
  },
  {
   "cell_type": "code",
   "execution_count": 3,
   "id": "afb8e5e4",
   "metadata": {},
   "outputs": [],
   "source": [
    "# IPython extension to reload modules before executing user code.\n",
    "%load_ext autoreload\n",
    "%autoreload 2 "
   ]
  },
  {
   "cell_type": "code",
   "execution_count": 4,
   "id": "cc2c441d-9dcf-4817-b097-cf6cbe440846",
   "metadata": {},
   "outputs": [
    {
     "ename": "ModuleNotFoundError",
     "evalue": "No module named 'functions'",
     "output_type": "error",
     "traceback": [
      "\u001b[0;31m---------------------------------------------------------------------------\u001b[0m",
      "\u001b[0;31mModuleNotFoundError\u001b[0m                       Traceback (most recent call last)",
      "Cell \u001b[0;32mIn[4], line 1\u001b[0m\n\u001b[0;32m----> 1\u001b[0m \u001b[38;5;28;01mfrom\u001b[39;00m \u001b[38;5;21;01mfunctions\u001b[39;00m \u001b[38;5;28;01mimport\u001b[39;00m get_unique_elements_f, count_case_f, remove_punctuation_f, word_count_f\n\u001b[1;32m      3\u001b[0m lst \u001b[38;5;241m=\u001b[39m [\u001b[38;5;241m100\u001b[39m, \u001b[38;5;241m100\u001b[39m, \u001b[38;5;241m100\u001b[39m, \u001b[38;5;241m200\u001b[39m, \u001b[38;5;241m200\u001b[39m, \u001b[38;5;241m300\u001b[39m, \u001b[38;5;241m400\u001b[39m, \u001b[38;5;241m500\u001b[39m, \u001b[38;5;241m500\u001b[39m]\n\u001b[1;32m      4\u001b[0m unique_elements \u001b[38;5;241m=\u001b[39m get_unique_elements_f(lst)\n",
      "\u001b[0;31mModuleNotFoundError\u001b[0m: No module named 'functions'"
     ]
    }
   ],
   "source": [
    "from functions import get_unique_elements_f, count_case_f, remove_punctuation_f, word_count_f\n",
    "\n",
    "lst = [100, 100, 100, 200, 200, 300, 400, 500, 500]\n",
    "unique_elements = get_unique_elements_f(lst)\n",
    "print(unique_elements)\n",
    "\n",
    "sentence = \"I am starting to get very confused.\"\n",
    "case_counts = count_case_f(sentence)\n",
    "print(\"Uppercase count:\", case_counts[0])\n",
    "print(\"Lowercase count:\", case_counts[1])\n",
    "\n",
    "sentence = \"I feel like I am losing my mind!!! Help!\"\n",
    "no_punctuation = remove_punctuation_f(sentence)\n",
    "word_count_result = word_count_f(no_punctuation)\n",
    "print(\"Sentence without punctuation:\", no_punctuation)\n",
    "print(\"Word count:\", word_count_result)"
   ]
  },
  {
   "cell_type": "code",
   "execution_count": 5,
   "id": "e61390ea",
   "metadata": {},
   "outputs": [
    {
     "ename": "ModuleNotFoundError",
     "evalue": "No module named 'functions'",
     "output_type": "error",
     "traceback": [
      "\u001b[0;31m---------------------------------------------------------------------------\u001b[0m",
      "\u001b[0;31mModuleNotFoundError\u001b[0m                       Traceback (most recent call last)",
      "Cell \u001b[0;32mIn[5], line 1\u001b[0m\n\u001b[0;32m----> 1\u001b[0m \u001b[38;5;28;01mfrom\u001b[39;00m \u001b[38;5;21;01mfunctions\u001b[39;00m \u001b[38;5;28;01mimport\u001b[39;00m get_unique_elements_f, count_case_f, remove_punctuation_f, word_count_f\n\u001b[1;32m      3\u001b[0m \u001b[38;5;28;01mtry\u001b[39;00m:\n\u001b[1;32m      4\u001b[0m     lst \u001b[38;5;241m=\u001b[39m [\u001b[38;5;241m100\u001b[39m, \u001b[38;5;241m100\u001b[39m, \u001b[38;5;241m100\u001b[39m, \u001b[38;5;241m200\u001b[39m, \u001b[38;5;241m200\u001b[39m, \u001b[38;5;241m300\u001b[39m, \u001b[38;5;241m400\u001b[39m, \u001b[38;5;241m500\u001b[39m, \u001b[38;5;241m500\u001b[39m]\n",
      "\u001b[0;31mModuleNotFoundError\u001b[0m: No module named 'functions'"
     ]
    }
   ],
   "source": [
    "from functions import get_unique_elements_f, count_case_f, remove_punctuation_f, word_count_f\n",
    "\n",
    "try:\n",
    "    lst = [100, 100, 100, 200, 200, 300, 400, 500, 500]\n",
    "    unique_elements = get_unique_elements_f(lst)\n",
    "    print(unique_elements)\n",
    "except Exception as e:\n",
    "    print(\"Error occurred while getting unique elements:\", str(e))\n",
    "\n",
    "try:\n",
    "    sentence = \"I am starting to get very confused.\"\n",
    "    case_counts = count_case_f(sentence)\n",
    "    print(\"Uppercase count:\", case_counts[0])\n",
    "    print(\"Lowercase count:\", case_counts[1])\n",
    "except Exception as e:\n",
    "    print(\"Error occurred while counting cases:\", str(e))\n",
    "\n",
    "try:\n",
    "    sentence = \"I feel like I am losing my mind!!! Help!\"\n",
    "    no_punctuation = remove_punctuation_f(sentence)\n",
    "    word_count_result = word_count_f(no_punctuation)\n",
    "    print(\"Sentence without punctuation:\", no_punctuation)\n",
    "    print(\"Word count:\", word_count_result)\n",
    "except Exception as e:\n",
    "    print(\"Error occurred while processing sentence:\", str(e))\n"
   ]
  },
  {
   "cell_type": "code",
   "execution_count": null,
   "id": "c0342f8f",
   "metadata": {},
   "outputs": [],
   "source": []
  }
 ],
 "metadata": {
  "kernelspec": {
   "display_name": "Python 3 (ipykernel)",
   "language": "python",
   "name": "python3"
  },
  "language_info": {
   "codemirror_mode": {
    "name": "ipython",
    "version": 3
   },
   "file_extension": ".py",
   "mimetype": "text/x-python",
   "name": "python",
   "nbconvert_exporter": "python",
   "pygments_lexer": "ipython3",
   "version": "3.10.9"
  }
 },
 "nbformat": 4,
 "nbformat_minor": 5
}
